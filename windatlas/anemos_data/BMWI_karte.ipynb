{
 "cells": [
  {
   "cell_type": "code",
   "execution_count": null,
   "metadata": {},
   "outputs": [],
   "source": [
    "import xarray as xr\n",
    "import rioxarray as rxr\n",
    "import timeit\n",
    "import pandas as pd\n",
    "import numpy as np\n",
    "import hvplot.xarray\n",
    "import cartopy.crs as ccrs\n",
    "import matplotlib.pyplot as plt"
   ]
  },
  {
   "cell_type": "code",
   "execution_count": null,
   "metadata": {},
   "outputs": [],
   "source": [
    "real_data_path = f\"/uba/transfer/UBA-Windatlas/Statistics/10-Jahresmittel/wspd.10L.ltm.2009-2018.nc\"\n",
    "\n",
    "data = xr.open_dataset(real_data_path, chunks={'time': 100}, engine='h5netcdf')\n",
    "data"
   ]
  },
  {
   "cell_type": "code",
   "execution_count": null,
   "metadata": {},
   "outputs": [],
   "source": [
    "data.sel(level=120).hvplot.quadmesh(\n",
    "    x='lon', y='lat', \n",
    "    #crs=ccrs.PlateCarree(), \n",
    "    #projection=ccrs.PlateCarree(),\n",
    "    cmap='viridis', \n",
    "    project=True, geo=True, rasterize=True, \n",
    "    coastline=True, \n",
    "    dynamic=False\n",
    "    ).opts(width=500, height=500)"
   ]
  },
  {
   "cell_type": "code",
   "execution_count": null,
   "metadata": {},
   "outputs": [],
   "source": [
    "import rasterio\n",
    "from rasterio.plot import show"
   ]
  },
  {
   "cell_type": "code",
   "execution_count": null,
   "metadata": {},
   "outputs": [],
   "source": [
    "real_data_path = r\"/uba/transfer/UBA-Windatlas/3arcsecs/D-3km.E5.3arcsecs.wspd.120m.2009-2018.z0.tif\"\n",
    "rasterdata = rasterio.open(real_data_path)\n",
    "print(rasterdata.meta)\n",
    "#show(rasterdata)"
   ]
  },
  {
   "cell_type": "code",
   "execution_count": null,
   "metadata": {},
   "outputs": [],
   "source": [
    "real_data_path = r\"/uba/transfer/UBA-Windatlas/3arcsecs/D-3km.E5.3arcsecs.wspd.120m.2009-2018.z0.tif\"\n",
    "\n",
    "# Open into an xarray.DataArray\n",
    "data_geotiff = rxr.open_rasterio(real_data_path, masked=True)\n",
    "\n",
    "# Covert our xarray.DataArray into a xarray.Dataset\n",
    "data_geotiff = data_geotiff.to_dataset('band')\n",
    "\n",
    "# Rename the variable to a more useful name\n",
    "data_geotiff = data_geotiff.rename({1: 'wspd'})\n",
    "\n",
    "data_geotiff"
   ]
  },
  {
   "cell_type": "code",
   "execution_count": null,
   "metadata": {},
   "outputs": [],
   "source": [
    "data_geotiff.wspd.plot(figsize=(10,13))\n",
    "plt.title(data_geotiff.attrs.get(\"description\"))\n",
    "plt.ylabel('latitude')\n",
    "plt.xlabel('longitude')\n",
    "plt.tight_layout()\n",
    "plt.show()"
   ]
  },
  {
   "cell_type": "code",
   "execution_count": null,
   "metadata": {},
   "outputs": [],
   "source": [
    "data_geotiff.wspd.hvplot.quadmesh(\n",
    "    x='x', y='y',\n",
    "    #crs=ccrs.PlateCarree(), \n",
    "    #projection=ccrs.PlateCarree(),\n",
    "    cmap='viridis', \n",
    "    project=True, geo=True, rasterize=True, \n",
    "    coastline=True\n",
    "    ).opts(\n",
    "        width=800, \n",
    "        height=800,\n",
    "        xlabel=\"longitude\",\n",
    "        ylabel=\"latitude\",\n",
    "        #clabel=\"mittlere Windgeschwindigkeit (m/s)\",\n",
    "        title=data_geotiff.attrs.get(\"description\"))"
   ]
  }
 ],
 "metadata": {
  "interpreter": {
   "hash": "590c26b7f2937bfcecb0a5796d3a0066be0ce7e9830b13c53de43dd49be9b17a"
  },
  "kernelspec": {
   "display_name": "Python 3.8.12 64-bit ('base': conda)",
   "language": "python",
   "name": "python3"
  },
  "language_info": {
   "codemirror_mode": {
    "name": "ipython",
    "version": 3
   },
   "file_extension": ".py",
   "mimetype": "text/x-python",
   "name": "python",
   "nbconvert_exporter": "python",
   "pygments_lexer": "ipython3",
   "version": "3.8.12"
  },
  "orig_nbformat": 4
 },
 "nbformat": 4,
 "nbformat_minor": 2
}
