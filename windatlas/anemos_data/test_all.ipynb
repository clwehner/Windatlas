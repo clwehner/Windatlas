{
 "cells": [
  {
   "cell_type": "code",
   "execution_count": 1,
   "metadata": {},
   "outputs": [],
   "source": [
    "from weaPoints import WeaPoints, WindDataType, CalculationMethod\n",
    "import numpy as np\n",
    "import xarray\n",
    "import pandas"
   ]
  },
  {
   "cell_type": "markdown",
   "metadata": {},
   "source": [
    "# Loading Points"
   ]
  },
  {
   "cell_type": "code",
   "execution_count": 2,
   "metadata": {},
   "outputs": [
    {
     "data": {
      "text/plain": [
       "[_WeaPoint(lat_lon_coor=array([54.881  , 12.39046]), level=120.0, wea_type='test_wea', x_y_coor=[105907.53413578896, 444285.49994777574]),\n",
       " _WeaPoint(lat_lon_coor=array([51.29095, 12.63768]), level=120.0, wea_type='test_wea', x_y_coor=[132022.7588105944, 45886.09314962475]),\n",
       " _WeaPoint(lat_lon_coor=array([48.11969, 13.94849]), level=120.0, wea_type='test_wea', x_y_coor=[238328.79786555542, -302848.49658686895]),\n",
       " _WeaPoint(lat_lon_coor=array([48.28712,  6.33321]), level=120.0, wea_type='test_wea', x_y_coor=[-325432.84460632544, -279708.42832648003]),\n",
       " _WeaPoint(lat_lon_coor=array([49.93187, 10.36485]), level=120.0, wea_type='test_wea', x_y_coor=[-26529.572444550355, -106650.14107252848])]"
      ]
     },
     "execution_count": 2,
     "metadata": {},
     "output_type": "execute_result"
    }
   ],
   "source": [
    "size = 10\n",
    "lon = np.around(np.random.uniform(6.0, 14.0, size=size),5)\n",
    "lat = np.around(np.random.uniform(48.0, 55.0, size=size),5)\n",
    "lat_lon_coor = np.stack((lat, lon), axis=1)\n",
    "level = np.around(np.random.uniform(120.0, 120.0, size=size),1)\n",
    "\n",
    "testPoints = WeaPoints(\n",
    "    lat_lon_coor = lat_lon_coor,\n",
    "    level = level,\n",
    "    wea_types = [\"test_wea\"] * size,\n",
    "    #interpolation_method = [InterpolationMethod.LINEAR] * size,\n",
    "    _interpolated_power_curves = True,\n",
    ")\n",
    "\n",
    "testPoints.point_list[:5]"
   ]
  },
  {
   "cell_type": "markdown",
   "metadata": {},
   "source": [
    "# Get Time series\n",
    "\n",
    "### 15 min TSnetCDF"
   ]
  },
  {
   "cell_type": "code",
   "execution_count": null,
   "metadata": {},
   "outputs": [],
   "source": [
    "testPoints.get_windpower_out(wind_data_type=WindDataType.TSNETCDF, time_frame=[2009,\"2018-12-31\"])\n",
    "\n",
    "Eout = {}\n",
    "for num, point in enumerate(testPoints.point_list):\n",
    "    Eout[f\"wea_{num+1}: {point.lat_lon_coor}\"] = point.power_time_series\n",
    "\n",
    "df = pandas.DataFrame(data=Eout,index=testPoints.time_periode)\n",
    "\n",
    "df.resample(\"1m\").sum().plot(figsize=(22,6))"
   ]
  },
  {
   "cell_type": "code",
   "execution_count": null,
   "metadata": {},
   "outputs": [],
   "source": [
    "df.sum(axis=0).plot.bar(figsize=(22,6))"
   ]
  },
  {
   "cell_type": "markdown",
   "metadata": {},
   "source": [
    "### 90m Mean"
   ]
  },
  {
   "cell_type": "code",
   "execution_count": null,
   "metadata": {},
   "outputs": [],
   "source": [
    "testPoints.get_windpower_out(wind_data_type=WindDataType.MEAN90M)\n",
    "Eout = {}\n",
    "for num, point in enumerate(testPoints.point_list):\n",
    "    Eout[f\"wea_{num+1}: {point.lat_lon_coor}\"] = point.power_time_series\n",
    "\n",
    "df_90mean = pandas.DataFrame(data=Eout,index=testPoints.time_periode)\n",
    "df_90mean.head()#.resample(\"14d\").mean().plot(figsize=(22,6))\n",
    "\n",
    "df_90mean.transpose().plot.bar(figsize=(22,6))"
   ]
  },
  {
   "cell_type": "markdown",
   "metadata": {},
   "source": [
    "### 3km Mean 10a"
   ]
  },
  {
   "cell_type": "code",
   "execution_count": 3,
   "metadata": {},
   "outputs": [
    {
     "name": "stdout",
     "output_type": "stream",
     "text": [
      "Passed time_frame valid.\n",
      "mean3km10a data loaded.\n",
      "rho\n"
     ]
    },
    {
     "name": "stderr",
     "output_type": "stream",
     "text": [
      "/opt/anaconda/anaconda3/lib/python3.8/site-packages/xarray/core/missing.py:563: RuntimeWarning: All-NaN slice encountered\n",
      "  minval = np.nanmin(new_x.values)\n",
      "/opt/anaconda/anaconda3/lib/python3.8/site-packages/xarray/core/missing.py:564: RuntimeWarning: All-NaN slice encountered\n",
      "  maxval = np.nanmax(new_x.values)\n"
     ]
    },
    {
     "ename": "KeyError",
     "evalue": "nan",
     "output_type": "error",
     "traceback": [
      "\u001b[0;31m---------------------------------------------------------------------------\u001b[0m",
      "\u001b[0;31mKeyError\u001b[0m                                  Traceback (most recent call last)",
      "\u001b[0;32m/tmp/ipykernel_27183/3703115305.py\u001b[0m in \u001b[0;36m<module>\u001b[0;34m\u001b[0m\n\u001b[0;32m----> 1\u001b[0;31m \u001b[0mtestPoints\u001b[0m\u001b[0;34m.\u001b[0m\u001b[0mget_windpower_out\u001b[0m\u001b[0;34m(\u001b[0m\u001b[0mwind_data_type\u001b[0m\u001b[0;34m=\u001b[0m\u001b[0mWindDataType\u001b[0m\u001b[0;34m.\u001b[0m\u001b[0mMEAN3KM\u001b[0m\u001b[0;34m,\u001b[0m \u001b[0mcalculation_method\u001b[0m\u001b[0;34m=\u001b[0m\u001b[0mCalculationMethod\u001b[0m\u001b[0;34m.\u001b[0m\u001b[0mWEIBULL\u001b[0m\u001b[0;34m)\u001b[0m\u001b[0;34m\u001b[0m\u001b[0;34m\u001b[0m\u001b[0m\n\u001b[0m\u001b[1;32m      2\u001b[0m \u001b[0mEout\u001b[0m \u001b[0;34m=\u001b[0m \u001b[0;34m{\u001b[0m\u001b[0;34m}\u001b[0m\u001b[0;34m\u001b[0m\u001b[0;34m\u001b[0m\u001b[0m\n\u001b[1;32m      3\u001b[0m \u001b[0;32mfor\u001b[0m \u001b[0mnum\u001b[0m\u001b[0;34m,\u001b[0m \u001b[0mpoint\u001b[0m \u001b[0;32min\u001b[0m \u001b[0menumerate\u001b[0m\u001b[0;34m(\u001b[0m\u001b[0mtestPoints\u001b[0m\u001b[0;34m.\u001b[0m\u001b[0mpoint_list\u001b[0m\u001b[0;34m)\u001b[0m\u001b[0;34m:\u001b[0m\u001b[0;34m\u001b[0m\u001b[0;34m\u001b[0m\u001b[0m\n\u001b[1;32m      4\u001b[0m     \u001b[0mEout\u001b[0m\u001b[0;34m[\u001b[0m\u001b[0;34mf\"wea_{num+1}: {point.lat_lon_coor}\"\u001b[0m\u001b[0;34m]\u001b[0m \u001b[0;34m=\u001b[0m \u001b[0mpoint\u001b[0m\u001b[0;34m.\u001b[0m\u001b[0mpower_time_series\u001b[0m\u001b[0;34m\u001b[0m\u001b[0;34m\u001b[0m\u001b[0m\n\u001b[1;32m      5\u001b[0m \u001b[0;34m\u001b[0m\u001b[0m\n",
      "\u001b[0;32m~/Documents/code/Windatlas/windatlas/anemos_data/weaPoints.py\u001b[0m in \u001b[0;36mget_windpower_out\u001b[0;34m(self, wind_data_type, time_frame, calculation_method)\u001b[0m\n\u001b[1;32m    447\u001b[0m         \u001b[0;32melif\u001b[0m \u001b[0mwind_data_type\u001b[0m \u001b[0;32mis\u001b[0m \u001b[0mWindDataType\u001b[0m\u001b[0;34m.\u001b[0m\u001b[0mMEAN3KM\u001b[0m\u001b[0;34m:\u001b[0m\u001b[0;34m\u001b[0m\u001b[0;34m\u001b[0m\u001b[0m\n\u001b[1;32m    448\u001b[0m             \u001b[0mself\u001b[0m\u001b[0;34m.\u001b[0m\u001b[0mtime_frame\u001b[0m \u001b[0;34m=\u001b[0m \u001b[0;34m[\u001b[0m\u001b[0mnp\u001b[0m\u001b[0;34m.\u001b[0m\u001b[0mdatetime64\u001b[0m\u001b[0;34m(\u001b[0m\u001b[0;34m\"2009-01-01\"\u001b[0m\u001b[0;34m)\u001b[0m\u001b[0;34m,\u001b[0m \u001b[0mnp\u001b[0m\u001b[0;34m.\u001b[0m\u001b[0mdatetime64\u001b[0m\u001b[0;34m(\u001b[0m\u001b[0;34m\"2018-12-31\"\u001b[0m\u001b[0;34m)\u001b[0m\u001b[0;34m]\u001b[0m\u001b[0;34m\u001b[0m\u001b[0;34m\u001b[0m\u001b[0m\n\u001b[0;32m--> 449\u001b[0;31m             \u001b[0mself\u001b[0m\u001b[0;34m.\u001b[0m\u001b[0m__mean3km10a_out\u001b[0m\u001b[0;34m(\u001b[0m\u001b[0mcalculation_method\u001b[0m\u001b[0;34m=\u001b[0m\u001b[0mcalculation_method\u001b[0m\u001b[0;34m)\u001b[0m\u001b[0;34m\u001b[0m\u001b[0;34m\u001b[0m\u001b[0m\n\u001b[0m\u001b[1;32m    450\u001b[0m \u001b[0;34m\u001b[0m\u001b[0m\n\u001b[1;32m    451\u001b[0m         \u001b[0;32melif\u001b[0m \u001b[0mwind_data_type\u001b[0m \u001b[0;32mis\u001b[0m \u001b[0mWindDataType\u001b[0m\u001b[0;34m.\u001b[0m\u001b[0mMEAN90M\u001b[0m\u001b[0;34m:\u001b[0m\u001b[0;34m\u001b[0m\u001b[0;34m\u001b[0m\u001b[0m\n",
      "\u001b[0;32m~/Documents/code/Windatlas/windatlas/anemos_data/weaPoints.py\u001b[0m in \u001b[0;36m__mean3km10a_out\u001b[0;34m(self, calculation_method)\u001b[0m\n\u001b[1;32m    547\u001b[0m \u001b[0;34m\u001b[0m\u001b[0m\n\u001b[1;32m    548\u001b[0m         \u001b[0;32mfor\u001b[0m \u001b[0mnum\u001b[0m\u001b[0;34m,\u001b[0m \u001b[0mpoint\u001b[0m \u001b[0;32min\u001b[0m \u001b[0menumerate\u001b[0m\u001b[0;34m(\u001b[0m\u001b[0mself\u001b[0m\u001b[0;34m.\u001b[0m\u001b[0mpoint_list\u001b[0m\u001b[0;34m)\u001b[0m\u001b[0;34m:\u001b[0m\u001b[0;34m\u001b[0m\u001b[0;34m\u001b[0m\u001b[0m\n\u001b[0;32m--> 549\u001b[0;31m             point.get_mean3km10a_power_output(\n\u001b[0m\u001b[1;32m    550\u001b[0m                 \u001b[0mwind_data\u001b[0m\u001b[0;34m=\u001b[0m\u001b[0mself\u001b[0m\u001b[0;34m.\u001b[0m\u001b[0mwind_data\u001b[0m\u001b[0;34m,\u001b[0m\u001b[0;34m\u001b[0m\u001b[0;34m\u001b[0m\u001b[0m\n\u001b[1;32m    551\u001b[0m                 \u001b[0mpower_curves\u001b[0m\u001b[0;34m=\u001b[0m\u001b[0mpower_curves\u001b[0m\u001b[0;34m,\u001b[0m\u001b[0;34m\u001b[0m\u001b[0;34m\u001b[0m\u001b[0m\n",
      "\u001b[0;32m~/Documents/code/Windatlas/windatlas/anemos_data/weaPoints.py\u001b[0m in \u001b[0;36mget_mean3km10a_power_output\u001b[0;34m(self, wind_data, power_curves, calculation_method)\u001b[0m\n\u001b[1;32m    205\u001b[0m \u001b[0;34m\u001b[0m\u001b[0m\n\u001b[1;32m    206\u001b[0m         \u001b[0;32mif\u001b[0m \u001b[0mcalculation_method\u001b[0m \u001b[0;32mis\u001b[0m \u001b[0mCalculationMethod\u001b[0m\u001b[0;34m.\u001b[0m\u001b[0mWEIBULL\u001b[0m\u001b[0;34m:\u001b[0m\u001b[0;34m\u001b[0m\u001b[0;34m\u001b[0m\u001b[0m\n\u001b[0;32m--> 207\u001b[0;31m             self.power_time_series = self.weibull_aep(\n\u001b[0m\u001b[1;32m    208\u001b[0m                 \u001b[0mlkl\u001b[0m\u001b[0;34m=\u001b[0m\u001b[0mpower_curve\u001b[0m\u001b[0;34m,\u001b[0m\u001b[0;34m\u001b[0m\u001b[0;34m\u001b[0m\u001b[0m\n\u001b[1;32m    209\u001b[0m                 \u001b[0mA\u001b[0m\u001b[0;34m=\u001b[0m\u001b[0mfloat\u001b[0m\u001b[0;34m(\u001b[0m\u001b[0minterp_wind_data\u001b[0m\u001b[0;34m[\u001b[0m\u001b[0;34m\"wbA\"\u001b[0m\u001b[0;34m]\u001b[0m\u001b[0;34m.\u001b[0m\u001b[0mwbA\u001b[0m\u001b[0;34m.\u001b[0m\u001b[0mto_numpy\u001b[0m\u001b[0;34m(\u001b[0m\u001b[0;34m)\u001b[0m\u001b[0;34m)\u001b[0m\u001b[0;34m,\u001b[0m\u001b[0;34m\u001b[0m\u001b[0;34m\u001b[0m\u001b[0m\n",
      "\u001b[0;32m~/Documents/code/Windatlas/windatlas/anemos_data/weaPoints.py\u001b[0m in \u001b[0;36mweibull_aep\u001b[0;34m(self, lkl, A, k, rho, years, s)\u001b[0m\n\u001b[1;32m    314\u001b[0m         \u001b[0mF\u001b[0m \u001b[0;34m=\u001b[0m \u001b[0mself\u001b[0m\u001b[0;34m.\u001b[0m\u001b[0mweibull\u001b[0m\u001b[0;34m(\u001b[0m\u001b[0mv_i\u001b[0m\u001b[0;34m=\u001b[0m\u001b[0mlkl\u001b[0m\u001b[0;34m.\u001b[0m\u001b[0mwspd\u001b[0m\u001b[0;34m.\u001b[0m\u001b[0mto_numpy\u001b[0m\u001b[0;34m(\u001b[0m\u001b[0;34m)\u001b[0m\u001b[0;34m,\u001b[0m \u001b[0mA\u001b[0m\u001b[0;34m=\u001b[0m\u001b[0mA\u001b[0m\u001b[0;34m,\u001b[0m \u001b[0mk\u001b[0m\u001b[0;34m=\u001b[0m\u001b[0mk\u001b[0m\u001b[0;34m)\u001b[0m\u001b[0;34m\u001b[0m\u001b[0;34m\u001b[0m\u001b[0m\n\u001b[1;32m    315\u001b[0m         \u001b[0mprint\u001b[0m\u001b[0;34m(\u001b[0m\u001b[0;34m\"rho\"\u001b[0m\u001b[0;34m)\u001b[0m\u001b[0;34m\u001b[0m\u001b[0;34m\u001b[0m\u001b[0m\n\u001b[0;32m--> 316\u001b[0;31m         \u001b[0mP\u001b[0m \u001b[0;34m=\u001b[0m \u001b[0mlkl\u001b[0m\u001b[0;34m.\u001b[0m\u001b[0minterp\u001b[0m\u001b[0;34m(\u001b[0m\u001b[0mrho\u001b[0m\u001b[0;34m=\u001b[0m\u001b[0mrho\u001b[0m\u001b[0;34m,\u001b[0m \u001b[0mmethod\u001b[0m\u001b[0;34m=\u001b[0m\u001b[0;34m\"linear\"\u001b[0m\u001b[0;34m)\u001b[0m\u001b[0;34m.\u001b[0m\u001b[0mto_numpy\u001b[0m\u001b[0;34m(\u001b[0m\u001b[0;34m)\u001b[0m\u001b[0;34m\u001b[0m\u001b[0;34m\u001b[0m\u001b[0m\n\u001b[0m\u001b[1;32m    317\u001b[0m \u001b[0;34m\u001b[0m\u001b[0m\n\u001b[1;32m    318\u001b[0m         \u001b[0;32mreturn\u001b[0m \u001b[0mself\u001b[0m\u001b[0;34m.\u001b[0m\u001b[0mannual_energy_production\u001b[0m\u001b[0;34m(\u001b[0m\u001b[0mF\u001b[0m\u001b[0;34m=\u001b[0m\u001b[0mF\u001b[0m\u001b[0;34m,\u001b[0m \u001b[0mP\u001b[0m\u001b[0;34m=\u001b[0m\u001b[0mP\u001b[0m\u001b[0;34m,\u001b[0m \u001b[0ms\u001b[0m\u001b[0;34m=\u001b[0m\u001b[0ms\u001b[0m\u001b[0;34m)\u001b[0m \u001b[0;34m*\u001b[0m \u001b[0myears\u001b[0m\u001b[0;34m\u001b[0m\u001b[0;34m\u001b[0m\u001b[0m\n",
      "\u001b[0;32m/opt/anaconda/anaconda3/lib/python3.8/site-packages/xarray/core/dataarray.py\u001b[0m in \u001b[0;36minterp\u001b[0;34m(self, coords, method, assume_sorted, kwargs, **coords_kwargs)\u001b[0m\n\u001b[1;32m   1740\u001b[0m                 \u001b[0;34m\"Given {}.\"\u001b[0m\u001b[0;34m.\u001b[0m\u001b[0mformat\u001b[0m\u001b[0;34m(\u001b[0m\u001b[0mself\u001b[0m\u001b[0;34m.\u001b[0m\u001b[0mdtype\u001b[0m\u001b[0;34m)\u001b[0m\u001b[0;34m\u001b[0m\u001b[0;34m\u001b[0m\u001b[0m\n\u001b[1;32m   1741\u001b[0m             )\n\u001b[0;32m-> 1742\u001b[0;31m         ds = self._to_temp_dataset().interp(\n\u001b[0m\u001b[1;32m   1743\u001b[0m             \u001b[0mcoords\u001b[0m\u001b[0;34m,\u001b[0m\u001b[0;34m\u001b[0m\u001b[0;34m\u001b[0m\u001b[0m\n\u001b[1;32m   1744\u001b[0m             \u001b[0mmethod\u001b[0m\u001b[0;34m=\u001b[0m\u001b[0mmethod\u001b[0m\u001b[0;34m,\u001b[0m\u001b[0;34m\u001b[0m\u001b[0;34m\u001b[0m\u001b[0m\n",
      "\u001b[0;32m/opt/anaconda/anaconda3/lib/python3.8/site-packages/xarray/core/dataset.py\u001b[0m in \u001b[0;36minterp\u001b[0;34m(self, coords, method, assume_sorted, kwargs, method_non_numeric, **coords_kwargs)\u001b[0m\n\u001b[1;32m   3163\u001b[0m         \u001b[0;32mif\u001b[0m \u001b[0mmethod\u001b[0m \u001b[0;32min\u001b[0m \u001b[0;34m[\u001b[0m\u001b[0;34m\"linear\"\u001b[0m\u001b[0;34m,\u001b[0m \u001b[0;34m\"nearest\"\u001b[0m\u001b[0;34m]\u001b[0m\u001b[0;34m:\u001b[0m\u001b[0;34m\u001b[0m\u001b[0;34m\u001b[0m\u001b[0m\n\u001b[1;32m   3164\u001b[0m             \u001b[0;32mfor\u001b[0m \u001b[0mk\u001b[0m\u001b[0;34m,\u001b[0m \u001b[0mv\u001b[0m \u001b[0;32min\u001b[0m \u001b[0mvalidated_indexers\u001b[0m\u001b[0;34m.\u001b[0m\u001b[0mitems\u001b[0m\u001b[0;34m(\u001b[0m\u001b[0;34m)\u001b[0m\u001b[0;34m:\u001b[0m\u001b[0;34m\u001b[0m\u001b[0;34m\u001b[0m\u001b[0m\n\u001b[0;32m-> 3165\u001b[0;31m                 \u001b[0mobj\u001b[0m\u001b[0;34m,\u001b[0m \u001b[0mnewidx\u001b[0m \u001b[0;34m=\u001b[0m \u001b[0mmissing\u001b[0m\u001b[0;34m.\u001b[0m\u001b[0m_localize\u001b[0m\u001b[0;34m(\u001b[0m\u001b[0mobj\u001b[0m\u001b[0;34m,\u001b[0m \u001b[0;34m{\u001b[0m\u001b[0mk\u001b[0m\u001b[0;34m:\u001b[0m \u001b[0mv\u001b[0m\u001b[0;34m}\u001b[0m\u001b[0;34m)\u001b[0m\u001b[0;34m\u001b[0m\u001b[0;34m\u001b[0m\u001b[0m\n\u001b[0m\u001b[1;32m   3166\u001b[0m                 \u001b[0mvalidated_indexers\u001b[0m\u001b[0;34m[\u001b[0m\u001b[0mk\u001b[0m\u001b[0;34m]\u001b[0m \u001b[0;34m=\u001b[0m \u001b[0mnewidx\u001b[0m\u001b[0;34m[\u001b[0m\u001b[0mk\u001b[0m\u001b[0;34m]\u001b[0m\u001b[0;34m\u001b[0m\u001b[0;34m\u001b[0m\u001b[0m\n\u001b[1;32m   3167\u001b[0m \u001b[0;34m\u001b[0m\u001b[0m\n",
      "\u001b[0;32m/opt/anaconda/anaconda3/lib/python3.8/site-packages/xarray/core/missing.py\u001b[0m in \u001b[0;36m_localize\u001b[0;34m(var, indexes_coords)\u001b[0m\n\u001b[1;32m    564\u001b[0m         \u001b[0mmaxval\u001b[0m \u001b[0;34m=\u001b[0m \u001b[0mnp\u001b[0m\u001b[0;34m.\u001b[0m\u001b[0mnanmax\u001b[0m\u001b[0;34m(\u001b[0m\u001b[0mnew_x\u001b[0m\u001b[0;34m.\u001b[0m\u001b[0mvalues\u001b[0m\u001b[0;34m)\u001b[0m\u001b[0;34m\u001b[0m\u001b[0;34m\u001b[0m\u001b[0m\n\u001b[1;32m    565\u001b[0m         \u001b[0mindex\u001b[0m \u001b[0;34m=\u001b[0m \u001b[0mx\u001b[0m\u001b[0;34m.\u001b[0m\u001b[0mto_index\u001b[0m\u001b[0;34m(\u001b[0m\u001b[0;34m)\u001b[0m\u001b[0;34m\u001b[0m\u001b[0;34m\u001b[0m\u001b[0m\n\u001b[0;32m--> 566\u001b[0;31m         \u001b[0mimin\u001b[0m \u001b[0;34m=\u001b[0m \u001b[0mindex\u001b[0m\u001b[0;34m.\u001b[0m\u001b[0mget_loc\u001b[0m\u001b[0;34m(\u001b[0m\u001b[0mminval\u001b[0m\u001b[0;34m,\u001b[0m \u001b[0mmethod\u001b[0m\u001b[0;34m=\u001b[0m\u001b[0;34m\"nearest\"\u001b[0m\u001b[0;34m)\u001b[0m\u001b[0;34m\u001b[0m\u001b[0;34m\u001b[0m\u001b[0m\n\u001b[0m\u001b[1;32m    567\u001b[0m         \u001b[0mimax\u001b[0m \u001b[0;34m=\u001b[0m \u001b[0mindex\u001b[0m\u001b[0;34m.\u001b[0m\u001b[0mget_loc\u001b[0m\u001b[0;34m(\u001b[0m\u001b[0mmaxval\u001b[0m\u001b[0;34m,\u001b[0m \u001b[0mmethod\u001b[0m\u001b[0;34m=\u001b[0m\u001b[0;34m\"nearest\"\u001b[0m\u001b[0;34m)\u001b[0m\u001b[0;34m\u001b[0m\u001b[0;34m\u001b[0m\u001b[0m\n\u001b[1;32m    568\u001b[0m \u001b[0;34m\u001b[0m\u001b[0m\n",
      "\u001b[0;32m/opt/anaconda/anaconda3/lib/python3.8/site-packages/pandas/core/indexes/base.py\u001b[0m in \u001b[0;36mget_loc\u001b[0;34m(self, key, method, tolerance)\u001b[0m\n\u001b[1;32m   3364\u001b[0m \u001b[0;34m\u001b[0m\u001b[0m\n\u001b[1;32m   3365\u001b[0m         \u001b[0;32mif\u001b[0m \u001b[0mis_scalar\u001b[0m\u001b[0;34m(\u001b[0m\u001b[0mkey\u001b[0m\u001b[0;34m)\u001b[0m \u001b[0;32mand\u001b[0m \u001b[0misna\u001b[0m\u001b[0;34m(\u001b[0m\u001b[0mkey\u001b[0m\u001b[0;34m)\u001b[0m \u001b[0;32mand\u001b[0m \u001b[0;32mnot\u001b[0m \u001b[0mself\u001b[0m\u001b[0;34m.\u001b[0m\u001b[0mhasnans\u001b[0m\u001b[0;34m:\u001b[0m\u001b[0;34m\u001b[0m\u001b[0;34m\u001b[0m\u001b[0m\n\u001b[0;32m-> 3366\u001b[0;31m             \u001b[0;32mraise\u001b[0m \u001b[0mKeyError\u001b[0m\u001b[0;34m(\u001b[0m\u001b[0mkey\u001b[0m\u001b[0;34m)\u001b[0m\u001b[0;34m\u001b[0m\u001b[0;34m\u001b[0m\u001b[0m\n\u001b[0m\u001b[1;32m   3367\u001b[0m \u001b[0;34m\u001b[0m\u001b[0m\n\u001b[1;32m   3368\u001b[0m         \u001b[0;32mif\u001b[0m \u001b[0mtolerance\u001b[0m \u001b[0;32mis\u001b[0m \u001b[0;32mnot\u001b[0m \u001b[0;32mNone\u001b[0m\u001b[0;34m:\u001b[0m\u001b[0;34m\u001b[0m\u001b[0;34m\u001b[0m\u001b[0m\n",
      "\u001b[0;31mKeyError\u001b[0m: nan"
     ]
    }
   ],
   "source": [
    "testPoints.get_windpower_out(wind_data_type=WindDataType.MEAN3KM, calculation_method=CalculationMethod.WEIBULL)\n",
    "Eout = {}\n",
    "for num, point in enumerate(testPoints.point_list):\n",
    "    Eout[f\"wea_{num+1}: {point.lat_lon_coor}\"] = point.power_time_series\n",
    "\n",
    "df_90mean = pandas.DataFrame(data=Eout,index=testPoints.time_periode)\n",
    "df_90mean.head()#.resample(\"14d\").mean().plot(figsize=(22,6))\n",
    "\n",
    "df_90mean.transpose().plot.bar(figsize=(22,6))"
   ]
  },
  {
   "cell_type": "markdown",
   "metadata": {},
   "source": [
    "### Comparison"
   ]
  },
  {
   "cell_type": "code",
   "execution_count": null,
   "metadata": {},
   "outputs": [],
   "source": [
    "from datetime import datetime\n",
    "\n",
    "comp = df_90mean.transpose()\n",
    "comp[\"15min\"] = df.sum(axis=0)\n",
    "comp.columns = [i.strftime('%Y-%m-%d') if isinstance(i, datetime) else i for i in comp.columns]\n",
    "comp = comp.rename(columns={comp.columns[0]:\"wiebull_90m\"})\n",
    "comp = comp / 1000000000 # Wh zu TWh umrechnen\n",
    "comp[\"diff\"] = comp[\"15min\"] - comp[\"wiebull_90m\"]\n",
    "\n",
    "ax = comp[\"diff\"].plot.bar(figsize=(18,5))\n",
    "ax.set_ylabel(\"10-Jahresertrag in TWh\")"
   ]
  },
  {
   "cell_type": "code",
   "execution_count": null,
   "metadata": {},
   "outputs": [],
   "source": [
    "import geopandas\n",
    "import matplotlib.pyplot as plt\n",
    "from mpl_toolkits.axes_grid1 import make_axes_locatable\n",
    "import contextily as cx"
   ]
  },
  {
   "cell_type": "code",
   "execution_count": null,
   "metadata": {},
   "outputs": [],
   "source": [
    "points = [point.lat_lon_coor for point in testPoints.point_list]\n",
    "lat = [point[0] for point in points]\n",
    "lon = [point[1] for point in points]\n",
    "\n",
    "geodf = geopandas.GeoDataFrame(\n",
    "    comp, geometry=geopandas.points_from_xy(lon, lat))\n",
    "\n",
    "geodf[\"y\"] = geodf.geometry.y\n",
    "geodf[\"x\"] = geodf.geometry.x\n",
    "\n",
    "geodf = geodf.sort_values(by='y', ascending=False)\n",
    "\n",
    "fig, ax = plt.subplots(1, 2, figsize=(15,10))\n",
    "fig.suptitle(\"Differenz der Energieerträge von 150 gleichen, zufällig plazierten Beispiel-Windkraftanlagen mit 120m Nabenhöhe \\n zwischen 15min-3km-Daten und 10a-90m-Daten von 2009 bis 2018 in Terrawattstunden\", fontsize=16)\n",
    "# SCATTER\n",
    "geodf.plot(kind=\"scatter\", x=\"diff\", y=\"y\", ax=ax[0], c=geodf[\"diff\"], cmap='plasma')\n",
    "ax[0].set_ylabel(\"Breitengrad\")\n",
    "ax[0].set_xlabel(\"Differenz Energieertrag [TWh]\")\n",
    "\n",
    "# MAP\n",
    "geodf.crs = \"EPSG:4326\"\n",
    "geodf = geodf.to_crs(epsg=3857)\n",
    "\n",
    "geodf.plot(column='diff', ax=ax[1], cmap='plasma')#, cax=cax)\n",
    "cx.add_basemap(ax[1], source=cx.providers.CartoDB.Voyager)#, crs=geodf.crs)\n",
    "ax[1].set_xticks([])\n",
    "ax[1].set_yticks([])\n",
    "\n",
    "#fig.savefig('Diff150Anlagen.eps', format='eps')"
   ]
  },
  {
   "cell_type": "markdown",
   "metadata": {},
   "source": [
    "### 3km man"
   ]
  },
  {
   "cell_type": "code",
   "execution_count": null,
   "metadata": {},
   "outputs": [],
   "source": [
    "path = \"/uba/anemos_winddata/20191029_anemosDataFull/UBA-Windatlas/Statistics/10-Jahresmittel/histos.120m.2009-2018.nc\"\n",
    "\n",
    "\n",
    "xarray.open_dataset(path).interp(x=12.3,y=30.34).wbk"
   ]
  },
  {
   "cell_type": "code",
   "execution_count": null,
   "metadata": {},
   "outputs": [],
   "source": [
    "path = \"/uba/anemos_winddata/20191029_anemosDataFull/UBA-Windatlas/3arcsecs/D-3km.E5.3arcsecs.wbk.2009-2018.nc\"\n",
    "\n",
    "xarray.open_dataset(path, engine=\"h5netcdf\").interp(x=6.27371826,y=47.94883789, level=120).wbk"
   ]
  },
  {
   "cell_type": "code",
   "execution_count": null,
   "metadata": {},
   "outputs": [],
   "source": [
    "from enum import Enum, unique\n",
    "\n",
    "@unique\n",
    "class test (Enum):\n",
    "    TEST1 = 1\n",
    "    TEST2 = 2\n",
    "    TEST3 = 3\n"
   ]
  },
  {
   "cell_type": "code",
   "execution_count": null,
   "metadata": {},
   "outputs": [],
   "source": [
    "test = test.TEST1\n",
    "\n",
    "if test is test.TEST1:\n",
    "    print(\"jup\")\n",
    "\n",
    "if test is (test.TEST2 or test.TEST3):\n",
    "    print(\"noup\")"
   ]
  }
 ],
 "metadata": {
  "interpreter": {
   "hash": "590c26b7f2937bfcecb0a5796d3a0066be0ce7e9830b13c53de43dd49be9b17a"
  },
  "kernelspec": {
   "display_name": "Python 3.8.12 64-bit ('base': conda)",
   "language": "python",
   "name": "python3"
  },
  "language_info": {
   "codemirror_mode": {
    "name": "ipython",
    "version": 3
   },
   "file_extension": ".py",
   "mimetype": "text/x-python",
   "name": "python",
   "nbconvert_exporter": "python",
   "pygments_lexer": "ipython3",
   "version": "3.8.12"
  },
  "orig_nbformat": 4
 },
 "nbformat": 4,
 "nbformat_minor": 2
}
