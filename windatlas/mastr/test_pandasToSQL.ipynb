{
 "cells": [
  {
   "cell_type": "code",
   "execution_count": 1,
   "metadata": {},
   "outputs": [
    {
     "name": "stdout",
     "output_type": "stream",
     "text": [
      "1.3.3\n"
     ]
    }
   ],
   "source": [
    "import os\n",
    "import time\n",
    "import pandas as pd\n",
    "import numpy as np\n",
    "import sqlalchemy\n",
    "import psycopg2\n",
    "import sys\n",
    "print(pd.__version__)\n",
    "\n",
    "from postgressql import *"
   ]
  },
  {
   "cell_type": "code",
   "execution_count": 2,
   "metadata": {},
   "outputs": [],
   "source": [
    "conn_params_dic = {\n",
    "    \"host\": \"10.0.0.102\",\n",
    "    \"dbname\": \"mastr\",\n",
    "    \"user\": \"uba_user\",\n",
    "    \"password\": \"UBAit2021!\",\n",
    "    \"port\": \"5432\"\n",
    "}\n",
    "\n",
    "sqlpath = \"./sqlCommands/loadMastrDBfiles.sql\"\n",
    "\n",
    "def format_bytes(size):\n",
    "    # 2**10 = 1024\n",
    "    power = 2**10\n",
    "    n = 0\n",
    "    power_labels = {0 : '', 1: 'kilo', 2: 'mega', 3: 'giga', 4: 'tera'}\n",
    "    while size > power:\n",
    "        size /= power\n",
    "        n += 1\n",
    "    return size, power_labels[n]+'bytes'\n",
    "\n",
    "def build_postgres_conn_string (param:dict) -> str:\n",
    "    \"\"\"\n",
    "\n",
    "    \"\"\"\n",
    "    return f'postgresql+psycopg2://{param[\"user\"]}:{param[\"password\"]}@{param[\"host\"]}:{param[\"port\"]}/{param[\"dbname\"]}'\n",
    "\n",
    "def create_postgres_engine (param:dict):\n",
    "    \"\"\"\n",
    "    \n",
    "    \"\"\"\n",
    "    conString = build_postgres_conn_string(param)\n",
    "    engine = sqlalchemy.create_engine(conString, pool_recycle=3600)\n",
    "    return engine\n",
    "\n",
    "def read_postgres_from_queryfile (sqlpath:str, postgresLogin:dict):# -> pandas.core.frame.DataFrame:\n",
    "    \"\"\"\n",
    "\n",
    "    \"\"\"\n",
    "    engine = create_postgres_engine(postgresLogin)\n",
    "    \n",
    "    scriptFile = open(sqlpath,'r')\n",
    "    script = scriptFile.read()\n",
    "    df = pd.read_sql(script, engine)\n",
    "\n",
    "    return df\n",
    "\n",
    "import updateMastr"
   ]
  },
  {
   "cell_type": "markdown",
   "metadata": {},
   "source": [
    "# LOOP THROUGH ALL XML FILES"
   ]
  },
  {
   "cell_type": "code",
   "execution_count": null,
   "metadata": {},
   "outputs": [],
   "source": [
    "stackedList = updateMastr.list_xml_files()"
   ]
  },
  {
   "cell_type": "code",
   "execution_count": null,
   "metadata": {},
   "outputs": [],
   "source": [
    "filterList = [\"Netzanschlusspunkte\"] # More can be added...\n",
    "\n",
    "print(len(stackedList))\n",
    "\n",
    "for i, liste in enumerate(stackedList):\n",
    "    stackedList[i] = [x for x in liste if all(y not in x for y in filterList)]\n",
    "stackedList = [x for x in stackedList if x != []]\n",
    "\n",
    "print(len(stackedList))"
   ]
  },
  {
   "cell_type": "markdown",
   "metadata": {},
   "source": [
    "# CREATE TABLE based on Pandas DF"
   ]
  },
  {
   "cell_type": "code",
   "execution_count": null,
   "metadata": {},
   "outputs": [],
   "source": [
    "engine = create_postgres_engine(conn_params_dic)\n",
    "\n",
    "for files in stackedList:\n",
    "    tableName = files[0].split(\"/\")[-1].split(\".\")[0].split(\"_\")[0]\n",
    "\n",
    "    print(f\"{tableName} start reading into dataFrame\")\n",
    "    ListDfs = [pd.read_xml(path_or_buffer=file, encoding=\"utf-16\") for file in files]\n",
    "\n",
    "    print(f\"{tableName} start concating dataFrames\")\n",
    "    df = pd.concat(ListDfs,ignore_index=True)\n",
    "    print(\"Changing dtypes to dateTime.\")\n",
    "    change_Dtype_Datetime(df)\n",
    "\n",
    "    print(f\"{tableName} load dataFrames into Postgres-DB\")\n",
    "    df.to_sql(\n",
    "        name=tableName,\n",
    "        schema=\"mastr_raw\",\n",
    "        con=engine,\n",
    "        if_exists=\"replace\",\n",
    "        index=False\n",
    "    )\n",
    "    del(df, ListDfs, tableName)\n",
    "    print(\".\")\n"
   ]
  },
  {
   "cell_type": "code",
   "execution_count": 16,
   "metadata": {},
   "outputs": [
    {
     "data": {
      "text/plain": [
       "<sqlalchemy.engine.cursor.LegacyCursorResult at 0x7f2826035c70>"
      ]
     },
     "execution_count": 16,
     "metadata": {},
     "output_type": "execute_result"
    }
   ],
   "source": [
    "engine = create_postgres_engine(conn_params_dic)\n",
    "\n",
    "# Creating Points from Läng und Breit columns\n",
    "sqlQuery = open(\"sqlCommands/addPointColumnFromKoord.sql\")\n",
    "escaped_sql = sqlalchemy.text(sqlQuery.read())\n",
    "engine.execute(escaped_sql)"
   ]
  },
  {
   "cell_type": "code",
   "execution_count": null,
   "metadata": {},
   "outputs": [],
   "source": []
  }
 ],
 "metadata": {
  "interpreter": {
   "hash": "590c26b7f2937bfcecb0a5796d3a0066be0ce7e9830b13c53de43dd49be9b17a"
  },
  "kernelspec": {
   "display_name": "Python 3.8.12 64-bit ('base': conda)",
   "name": "python3"
  },
  "language_info": {
   "codemirror_mode": {
    "name": "ipython",
    "version": 3
   },
   "file_extension": ".py",
   "mimetype": "text/x-python",
   "name": "python",
   "nbconvert_exporter": "python",
   "pygments_lexer": "ipython3",
   "version": "3.8.12"
  },
  "orig_nbformat": 2
 },
 "nbformat": 4,
 "nbformat_minor": 2
}
