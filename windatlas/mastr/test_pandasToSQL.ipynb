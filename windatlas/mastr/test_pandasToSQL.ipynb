{
 "metadata": {
  "language_info": {
   "codemirror_mode": {
    "name": "ipython",
    "version": 3
   },
   "file_extension": ".py",
   "mimetype": "text/x-python",
   "name": "python",
   "nbconvert_exporter": "python",
   "pygments_lexer": "ipython3",
   "version": "3.8.12-final"
  },
  "orig_nbformat": 2,
  "kernelspec": {
   "name": "python38864bitcc88fc93af0246c8a8b7d2aa4ec87d32",
   "display_name": "Python 3.8.8 64-bit"
  }
 },
 "nbformat": 4,
 "nbformat_minor": 2,
 "cells": [
  {
   "cell_type": "code",
   "execution_count": 1,
   "metadata": {},
   "outputs": [
    {
     "output_type": "stream",
     "name": "stdout",
     "text": [
      "1.3.3\n"
     ]
    }
   ],
   "source": [
    "import os\n",
    "import time\n",
    "import pandas as pd\n",
    "import numpy as np\n",
    "from sqlalchemy import create_engine\n",
    "import psycopg2\n",
    "print(pd.__version__)\n",
    "\n",
    "from postgressql import *"
   ]
  },
  {
   "cell_type": "code",
   "execution_count": 16,
   "metadata": {},
   "outputs": [],
   "source": [
    "conn_params_dic = {\n",
    "    \"host\": \"10.0.0.102\",\n",
    "    \"dbname\": \"mastr\",\n",
    "    \"user\": \"uba_user\",\n",
    "    \"password\": \"UBAit2021!\",\n",
    "    \"port\": \"5432\"\n",
    "}\n",
    "\n",
    "sqlpath = \"./sqlCommands/loadMastrDBfiles.sql\"\n",
    "\n",
    "def build_postgres_conn_string (param:dict) -> str:\n",
    "    \"\"\"\n",
    "\n",
    "    \"\"\"\n",
    "    return f'postgresql+psycopg2://{param[\"user\"]}:{param[\"password\"]}@{param[\"host\"]}:{param[\"port\"]}/{param[\"dbname\"]}'\n",
    "\n",
    "def create_postgres_engine (param:dict):\n",
    "    \"\"\"\n",
    "    \n",
    "    \"\"\"\n",
    "    conString = build_postgres_conn_string(conn_params_dic)\n",
    "    engine = create_engine(conString, pool_recycle=3600)\n",
    "    return engine\n",
    "\n",
    "def read_postgres_from_queryfile (sqlpath:str, postgresLogin:dict) -> pandas.core.frame.DataFrame:\n",
    "    \"\"\"\n",
    "\n",
    "    \"\"\"\n",
    "    engine = create_postgres_engine(postgresLogin)\n",
    "    \n",
    "    scriptFile = open(sqlpath,'r')\n",
    "    script = scriptFile.read()\n",
    "    df = pd.read_sql(script, engine)\n",
    "\n",
    "    return df"
   ]
  },
  {
   "source": [
    "# CREATE TABLE based on Pandas DF"
   ],
   "cell_type": "markdown",
   "metadata": {}
  },
  {
   "cell_type": "code",
   "execution_count": 55,
   "metadata": {},
   "outputs": [
    {
     "output_type": "stream",
     "name": "stdout",
     "text": [
      "/uba/mastr/MaStR/Vollauszüge/20211004/\n"
     ]
    }
   ],
   "source": [
    "import numpy as np\n",
    "\n",
    "filepath = \"/uba/mastr/MaStR/Vollauszüge/\"\n",
    "dateDirs = os.listdir(filepath)\n",
    "array = np.array(dateDirs).astype(\"int\")\n",
    "recentDir = str(array.min())\n",
    "filepath = filepath + recentDir + \"/\"\n",
    "print(filepath)"
   ]
  },
  {
   "cell_type": "code",
   "execution_count": 56,
   "metadata": {},
   "outputs": [
    {
     "output_type": "stream",
     "name": "stdout",
     "text": [
      "/uba/mastr/MaStR/Vollauszüge/20211004/EinheitenWind.xml\n"
     ]
    },
    {
     "output_type": "execute_result",
     "data": {
      "text/plain": [
       "  EinheitMastrNummer     DatumLetzteAktualisierung LokationMaStRNummer  \\\n",
       "0    SEE900002935310 2021-08-20 09:51:42.953594100     SEL957516775208   \n",
       "1    SEE900004001082 2021-01-27 20:20:59.429862800     SEL949397946808   \n",
       "2    SEE900011187731 2020-01-08 18:07:22.967045100     SEL901928237038   \n",
       "3    SEE900013535608 2021-01-21 15:14:32.282210000     SEL956642007177   \n",
       "4    SEE900014803461 2021-03-25 13:33:47.532137200     SEL977165118843   \n",
       "\n",
       "   NetzbetreiberpruefungStatus NetzbetreiberpruefungDatum  \\\n",
       "0                            0                 2021-08-20   \n",
       "1                            1                 2021-01-27   \n",
       "2                            1                 2020-01-10   \n",
       "3                            1                 2020-10-29   \n",
       "4                            0                 2021-03-25   \n",
       "\n",
       "  AnlagenbetreiberMastrNummer  Land  Bundesland                Landkreis  \\\n",
       "0             ABR935787334270    84      1400.0               Oder-Spree   \n",
       "1             ABR967616635029    84      1409.0                Paderborn   \n",
       "2             ABR962772458710    84      1410.0  Eifelkreis Bitburg-Prüm   \n",
       "3             ABR955714105537    84      1410.0         Donnersbergkreis   \n",
       "4             ABR918453648000    84      1415.0                   Erfurt   \n",
       "\n",
       "     Gemeinde  ...  Kuestenentfernung  GeplantesInbetriebnahmedatum Strasse  \\\n",
       "0  Jacobsdorf  ...                NaN                           NaT    None   \n",
       "1       Büren  ...                NaN                           NaT    None   \n",
       "2      Hütten  ...                NaN                           NaT    None   \n",
       "3  Gauersheim  ...                NaN                           NaT    None   \n",
       "4      Erfurt  ...                NaN                           NaT    None   \n",
       "\n",
       "  Hausnummer  Adresszusatz  DatumEndgueltigeStilllegung  ClusterOstsee  \\\n",
       "0       None          None                          NaT            NaN   \n",
       "1       None          None                          NaT            NaN   \n",
       "2       None          None                          NaT            NaN   \n",
       "3       None          None                          NaT            NaN   \n",
       "4       None          None                          NaT            NaN   \n",
       "\n",
       "  DatumBeginnVoruebergehendeStilllegung  Kraftwerksnummer  \\\n",
       "0                                   NaT              None   \n",
       "1                                   NaT              None   \n",
       "2                                   NaT              None   \n",
       "3                                   NaT              None   \n",
       "4                                   NaT              None   \n",
       "\n",
       "   DatumWiederaufnahmeBetrieb  \n",
       "0                         NaT  \n",
       "1                         NaT  \n",
       "2                         NaT  \n",
       "3                         NaT  \n",
       "4                         NaT  \n",
       "\n",
       "[5 rows x 69 columns]"
      ],
      "text/html": "<div>\n<style scoped>\n    .dataframe tbody tr th:only-of-type {\n        vertical-align: middle;\n    }\n\n    .dataframe tbody tr th {\n        vertical-align: top;\n    }\n\n    .dataframe thead th {\n        text-align: right;\n    }\n</style>\n<table border=\"1\" class=\"dataframe\">\n  <thead>\n    <tr style=\"text-align: right;\">\n      <th></th>\n      <th>EinheitMastrNummer</th>\n      <th>DatumLetzteAktualisierung</th>\n      <th>LokationMaStRNummer</th>\n      <th>NetzbetreiberpruefungStatus</th>\n      <th>NetzbetreiberpruefungDatum</th>\n      <th>AnlagenbetreiberMastrNummer</th>\n      <th>Land</th>\n      <th>Bundesland</th>\n      <th>Landkreis</th>\n      <th>Gemeinde</th>\n      <th>...</th>\n      <th>Kuestenentfernung</th>\n      <th>GeplantesInbetriebnahmedatum</th>\n      <th>Strasse</th>\n      <th>Hausnummer</th>\n      <th>Adresszusatz</th>\n      <th>DatumEndgueltigeStilllegung</th>\n      <th>ClusterOstsee</th>\n      <th>DatumBeginnVoruebergehendeStilllegung</th>\n      <th>Kraftwerksnummer</th>\n      <th>DatumWiederaufnahmeBetrieb</th>\n    </tr>\n  </thead>\n  <tbody>\n    <tr>\n      <th>0</th>\n      <td>SEE900002935310</td>\n      <td>2021-08-20 09:51:42.953594100</td>\n      <td>SEL957516775208</td>\n      <td>0</td>\n      <td>2021-08-20</td>\n      <td>ABR935787334270</td>\n      <td>84</td>\n      <td>1400.0</td>\n      <td>Oder-Spree</td>\n      <td>Jacobsdorf</td>\n      <td>...</td>\n      <td>NaN</td>\n      <td>NaT</td>\n      <td>None</td>\n      <td>None</td>\n      <td>None</td>\n      <td>NaT</td>\n      <td>NaN</td>\n      <td>NaT</td>\n      <td>None</td>\n      <td>NaT</td>\n    </tr>\n    <tr>\n      <th>1</th>\n      <td>SEE900004001082</td>\n      <td>2021-01-27 20:20:59.429862800</td>\n      <td>SEL949397946808</td>\n      <td>1</td>\n      <td>2021-01-27</td>\n      <td>ABR967616635029</td>\n      <td>84</td>\n      <td>1409.0</td>\n      <td>Paderborn</td>\n      <td>Büren</td>\n      <td>...</td>\n      <td>NaN</td>\n      <td>NaT</td>\n      <td>None</td>\n      <td>None</td>\n      <td>None</td>\n      <td>NaT</td>\n      <td>NaN</td>\n      <td>NaT</td>\n      <td>None</td>\n      <td>NaT</td>\n    </tr>\n    <tr>\n      <th>2</th>\n      <td>SEE900011187731</td>\n      <td>2020-01-08 18:07:22.967045100</td>\n      <td>SEL901928237038</td>\n      <td>1</td>\n      <td>2020-01-10</td>\n      <td>ABR962772458710</td>\n      <td>84</td>\n      <td>1410.0</td>\n      <td>Eifelkreis Bitburg-Prüm</td>\n      <td>Hütten</td>\n      <td>...</td>\n      <td>NaN</td>\n      <td>NaT</td>\n      <td>None</td>\n      <td>None</td>\n      <td>None</td>\n      <td>NaT</td>\n      <td>NaN</td>\n      <td>NaT</td>\n      <td>None</td>\n      <td>NaT</td>\n    </tr>\n    <tr>\n      <th>3</th>\n      <td>SEE900013535608</td>\n      <td>2021-01-21 15:14:32.282210000</td>\n      <td>SEL956642007177</td>\n      <td>1</td>\n      <td>2020-10-29</td>\n      <td>ABR955714105537</td>\n      <td>84</td>\n      <td>1410.0</td>\n      <td>Donnersbergkreis</td>\n      <td>Gauersheim</td>\n      <td>...</td>\n      <td>NaN</td>\n      <td>NaT</td>\n      <td>None</td>\n      <td>None</td>\n      <td>None</td>\n      <td>NaT</td>\n      <td>NaN</td>\n      <td>NaT</td>\n      <td>None</td>\n      <td>NaT</td>\n    </tr>\n    <tr>\n      <th>4</th>\n      <td>SEE900014803461</td>\n      <td>2021-03-25 13:33:47.532137200</td>\n      <td>SEL977165118843</td>\n      <td>0</td>\n      <td>2021-03-25</td>\n      <td>ABR918453648000</td>\n      <td>84</td>\n      <td>1415.0</td>\n      <td>Erfurt</td>\n      <td>Erfurt</td>\n      <td>...</td>\n      <td>NaN</td>\n      <td>NaT</td>\n      <td>None</td>\n      <td>None</td>\n      <td>None</td>\n      <td>NaT</td>\n      <td>NaN</td>\n      <td>NaT</td>\n      <td>None</td>\n      <td>NaT</td>\n    </tr>\n  </tbody>\n</table>\n<p>5 rows × 69 columns</p>\n</div>"
     },
     "metadata": {},
     "execution_count": 56
    }
   ],
   "source": [
    "filepath = \"/uba/mastr/MaStR/Vollauszüge/\"\n",
    "dateDirs = os.listdir(filepath)\n",
    "array = np.array(dateDirs).astype(\"int\")\n",
    "recentDir = str(array.min())\n",
    "filepath = filepath + recentDir + \"/\"\n",
    "files = os.listdir(filepath)\n",
    "files.sort()\n",
    "filenames = [element.split(\".\")[0].split(\"_\")[0] for element in files]\n",
    "uniqueFilenames = list(set(filenames))\n",
    "\n",
    "filterString = 'Wind'\n",
    "filteredList = [k for k in files if filterString in k]\n",
    "selectedTable = filteredList[1].split(\".\")[0]\n",
    "xmlPath = filepath + selectedTable + \".xml\"\n",
    "print(xmlPath)\n",
    "\n",
    "df = from_xml_to_DataFrame(xmlPath)\n",
    "change_Dtype_Datetime(df)\n",
    "df.head()"
   ]
  },
  {
   "cell_type": "code",
   "execution_count": 13,
   "metadata": {},
   "outputs": [
    {
     "output_type": "execute_result",
     "data": {
      "text/plain": [
       "'EinheitenWind'"
      ]
     },
     "metadata": {},
     "execution_count": 13
    }
   ],
   "source": [
    "selectedTable"
   ]
  },
  {
   "cell_type": "code",
   "execution_count": 15,
   "metadata": {},
   "outputs": [],
   "source": [
    "engine = create_postgres_engine(conn_params_dic)\n",
    "df.to_sql(\n",
    "    name=selectedTable,\n",
    "    schema=\"mastr_raw\",\n",
    "    con=engine,\n",
    "    if_exists=\"replace\",\n",
    "    index=False\n",
    ")"
   ]
  },
  {
   "source": [
    "# USING PANDAS AND SQLALCHEMY TO READ "
   ],
   "cell_type": "markdown",
   "metadata": {}
  },
  {
   "cell_type": "code",
   "execution_count": 17,
   "metadata": {},
   "outputs": [
    {
     "output_type": "execute_result",
     "data": {
      "text/plain": [
       "   index EinheitMastrNummer  DatumLetzteAktualisierung LokationMaStRNummer  \\\n",
       "0      0    SEE900002935310 2021-08-20 09:51:42.953594     SEL957516775208   \n",
       "1      1    SEE900004001082 2021-01-27 20:20:59.429862     SEL949397946808   \n",
       "2      2    SEE900011187731 2020-01-08 18:07:22.967045     SEL901928237038   \n",
       "3      3    SEE900013535608 2021-01-21 15:14:32.282210     SEL956642007177   \n",
       "4      4    SEE900014803461 2021-03-25 13:33:47.532137     SEL977165118843   \n",
       "\n",
       "   NetzbetreiberpruefungStatus NetzbetreiberpruefungDatum  \\\n",
       "0                            0                 2021-08-20   \n",
       "1                            1                 2021-01-27   \n",
       "2                            1                 2020-01-10   \n",
       "3                            1                 2020-10-29   \n",
       "4                            0                 2021-03-25   \n",
       "\n",
       "  AnlagenbetreiberMastrNummer  Land  Bundesland                Landkreis  ...  \\\n",
       "0             ABR935787334270    84      1400.0               Oder-Spree  ...   \n",
       "1             ABR967616635029    84      1409.0                Paderborn  ...   \n",
       "2             ABR962772458710    84      1410.0  Eifelkreis Bitburg-Prüm  ...   \n",
       "3             ABR955714105537    84      1410.0         Donnersbergkreis  ...   \n",
       "4             ABR918453648000    84      1415.0                   Erfurt  ...   \n",
       "\n",
       "  Kuestenentfernung  GeplantesInbetriebnahmedatum  Strasse Hausnummer  \\\n",
       "0               NaN                           NaT     None       None   \n",
       "1               NaN                           NaT     None       None   \n",
       "2               NaN                           NaT     None       None   \n",
       "3               NaN                           NaT     None       None   \n",
       "4               NaN                           NaT     None       None   \n",
       "\n",
       "  Adresszusatz  DatumEndgueltigeStilllegung  ClusterOstsee  \\\n",
       "0         None                          NaT            NaN   \n",
       "1         None                          NaT            NaN   \n",
       "2         None                          NaT            NaN   \n",
       "3         None                          NaT            NaN   \n",
       "4         None                          NaT            NaN   \n",
       "\n",
       "   DatumBeginnVoruebergehendeStilllegung Kraftwerksnummer  \\\n",
       "0                                    NaT             None   \n",
       "1                                    NaT             None   \n",
       "2                                    NaT             None   \n",
       "3                                    NaT             None   \n",
       "4                                    NaT             None   \n",
       "\n",
       "   DatumWiederaufnahmeBetrieb  \n",
       "0                         NaT  \n",
       "1                         NaT  \n",
       "2                         NaT  \n",
       "3                         NaT  \n",
       "4                         NaT  \n",
       "\n",
       "[5 rows x 70 columns]"
      ],
      "text/html": "<div>\n<style scoped>\n    .dataframe tbody tr th:only-of-type {\n        vertical-align: middle;\n    }\n\n    .dataframe tbody tr th {\n        vertical-align: top;\n    }\n\n    .dataframe thead th {\n        text-align: right;\n    }\n</style>\n<table border=\"1\" class=\"dataframe\">\n  <thead>\n    <tr style=\"text-align: right;\">\n      <th></th>\n      <th>index</th>\n      <th>EinheitMastrNummer</th>\n      <th>DatumLetzteAktualisierung</th>\n      <th>LokationMaStRNummer</th>\n      <th>NetzbetreiberpruefungStatus</th>\n      <th>NetzbetreiberpruefungDatum</th>\n      <th>AnlagenbetreiberMastrNummer</th>\n      <th>Land</th>\n      <th>Bundesland</th>\n      <th>Landkreis</th>\n      <th>...</th>\n      <th>Kuestenentfernung</th>\n      <th>GeplantesInbetriebnahmedatum</th>\n      <th>Strasse</th>\n      <th>Hausnummer</th>\n      <th>Adresszusatz</th>\n      <th>DatumEndgueltigeStilllegung</th>\n      <th>ClusterOstsee</th>\n      <th>DatumBeginnVoruebergehendeStilllegung</th>\n      <th>Kraftwerksnummer</th>\n      <th>DatumWiederaufnahmeBetrieb</th>\n    </tr>\n  </thead>\n  <tbody>\n    <tr>\n      <th>0</th>\n      <td>0</td>\n      <td>SEE900002935310</td>\n      <td>2021-08-20 09:51:42.953594</td>\n      <td>SEL957516775208</td>\n      <td>0</td>\n      <td>2021-08-20</td>\n      <td>ABR935787334270</td>\n      <td>84</td>\n      <td>1400.0</td>\n      <td>Oder-Spree</td>\n      <td>...</td>\n      <td>NaN</td>\n      <td>NaT</td>\n      <td>None</td>\n      <td>None</td>\n      <td>None</td>\n      <td>NaT</td>\n      <td>NaN</td>\n      <td>NaT</td>\n      <td>None</td>\n      <td>NaT</td>\n    </tr>\n    <tr>\n      <th>1</th>\n      <td>1</td>\n      <td>SEE900004001082</td>\n      <td>2021-01-27 20:20:59.429862</td>\n      <td>SEL949397946808</td>\n      <td>1</td>\n      <td>2021-01-27</td>\n      <td>ABR967616635029</td>\n      <td>84</td>\n      <td>1409.0</td>\n      <td>Paderborn</td>\n      <td>...</td>\n      <td>NaN</td>\n      <td>NaT</td>\n      <td>None</td>\n      <td>None</td>\n      <td>None</td>\n      <td>NaT</td>\n      <td>NaN</td>\n      <td>NaT</td>\n      <td>None</td>\n      <td>NaT</td>\n    </tr>\n    <tr>\n      <th>2</th>\n      <td>2</td>\n      <td>SEE900011187731</td>\n      <td>2020-01-08 18:07:22.967045</td>\n      <td>SEL901928237038</td>\n      <td>1</td>\n      <td>2020-01-10</td>\n      <td>ABR962772458710</td>\n      <td>84</td>\n      <td>1410.0</td>\n      <td>Eifelkreis Bitburg-Prüm</td>\n      <td>...</td>\n      <td>NaN</td>\n      <td>NaT</td>\n      <td>None</td>\n      <td>None</td>\n      <td>None</td>\n      <td>NaT</td>\n      <td>NaN</td>\n      <td>NaT</td>\n      <td>None</td>\n      <td>NaT</td>\n    </tr>\n    <tr>\n      <th>3</th>\n      <td>3</td>\n      <td>SEE900013535608</td>\n      <td>2021-01-21 15:14:32.282210</td>\n      <td>SEL956642007177</td>\n      <td>1</td>\n      <td>2020-10-29</td>\n      <td>ABR955714105537</td>\n      <td>84</td>\n      <td>1410.0</td>\n      <td>Donnersbergkreis</td>\n      <td>...</td>\n      <td>NaN</td>\n      <td>NaT</td>\n      <td>None</td>\n      <td>None</td>\n      <td>None</td>\n      <td>NaT</td>\n      <td>NaN</td>\n      <td>NaT</td>\n      <td>None</td>\n      <td>NaT</td>\n    </tr>\n    <tr>\n      <th>4</th>\n      <td>4</td>\n      <td>SEE900014803461</td>\n      <td>2021-03-25 13:33:47.532137</td>\n      <td>SEL977165118843</td>\n      <td>0</td>\n      <td>2021-03-25</td>\n      <td>ABR918453648000</td>\n      <td>84</td>\n      <td>1415.0</td>\n      <td>Erfurt</td>\n      <td>...</td>\n      <td>NaN</td>\n      <td>NaT</td>\n      <td>None</td>\n      <td>None</td>\n      <td>None</td>\n      <td>NaT</td>\n      <td>NaN</td>\n      <td>NaT</td>\n      <td>None</td>\n      <td>NaT</td>\n    </tr>\n  </tbody>\n</table>\n<p>5 rows × 70 columns</p>\n</div>"
     },
     "metadata": {},
     "execution_count": 17
    }
   ],
   "source": [
    "df = read_postgres_from_queryfile(sqlpath, conn_params_dic)\n",
    "df.head()"
   ]
  },
  {
   "source": [
    "# USING PSYCOPG2"
   ],
   "cell_type": "markdown",
   "metadata": {}
  },
  {
   "cell_type": "code",
   "execution_count": null,
   "metadata": {},
   "outputs": [],
   "source": [
    "conn_params_dic = {\n",
    "    \"host\": \"10.0.0.102\",\n",
    "    \"dbname\": \"mastr\",\n",
    "    \"user\": \"uba_user\",\n",
    "    \"password\": \"UBAit2021!\",\n",
    "    \"port\": \"5432\"\n",
    "}\n",
    "conn = connect(conn_params_dic)\n",
    "print(type(conn))\n",
    "\n",
    "copy_from_DataFrame()"
   ]
  },
  {
   "cell_type": "code",
   "execution_count": null,
   "metadata": {},
   "outputs": [],
   "source": []
  }
 ]
}