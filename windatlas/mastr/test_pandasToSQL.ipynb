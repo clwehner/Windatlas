{
 "cells": [
  {
   "cell_type": "code",
   "execution_count": 1,
   "metadata": {},
   "outputs": [
    {
     "name": "stdout",
     "output_type": "stream",
     "text": [
      "1.3.3\n"
     ]
    }
   ],
   "source": [
    "import os\n",
    "import time\n",
    "import pandas as pd\n",
    "import numpy as np\n",
    "from sqlalchemy import create_engine\n",
    "import psycopg2\n",
    "print(pd.__version__)\n",
    "\n",
    "from postgressql import *"
   ]
  },
  {
   "cell_type": "code",
   "execution_count": null,
   "metadata": {},
   "outputs": [],
   "source": [
    "conn_params_dic = {\n",
    "    \"host\": \"10.0.0.102\",\n",
    "    \"dbname\": \"mastr\",\n",
    "    \"user\": \"uba_user\",\n",
    "    \"password\": \"UBAit2021!\",\n",
    "    \"port\": \"5432\"\n",
    "}\n",
    "\n",
    "sqlpath = \"./sqlCommands/loadMastrDBfiles.sql\"\n",
    "\n",
    "def build_postgres_conn_string (param:dict) -> str:\n",
    "    \"\"\"\n",
    "\n",
    "    \"\"\"\n",
    "    return f'postgresql+psycopg2://{param[\"user\"]}:{param[\"password\"]}@{param[\"host\"]}:{param[\"port\"]}/{param[\"dbname\"]}'\n",
    "\n",
    "def create_postgres_engine (param:dict):\n",
    "    \"\"\"\n",
    "    \n",
    "    \"\"\"\n",
    "    conString = build_postgres_conn_string(param)\n",
    "    engine = create_engine(conString, pool_recycle=3600)\n",
    "    return engine\n",
    "\n",
    "def read_postgres_from_queryfile (sqlpath:str, postgresLogin:dict) -> pandas.core.frame.DataFrame:\n",
    "    \"\"\"\n",
    "\n",
    "    \"\"\"\n",
    "    engine = create_postgres_engine(postgresLogin)\n",
    "    \n",
    "    scriptFile = open(sqlpath,'r')\n",
    "    script = scriptFile.read()\n",
    "    df = pd.read_sql(script, engine)\n",
    "\n",
    "    return df\n",
    "\n",
    "def "
   ]
  },
  {
   "cell_type": "markdown",
   "metadata": {},
   "source": [
    "# LOOP THROUGH ALL XML FILES"
   ]
  },
  {
   "cell_type": "code",
   "execution_count": 36,
   "metadata": {},
   "outputs": [],
   "source": [
    "import pandas \n",
    "import numpy\n",
    "import os\n",
    "import datetime\n",
    "\n",
    "\n",
    "TODAY = datetime.date.today()\n",
    "PATH_VOLLAUSZUEGE = \"/uba/mastr/MaStR/Vollauszüge/\"\n",
    "# LINK_TO_MASTR_DOWNLOAD = \"https://download.marktstammdatenregister.de/Gesamtdatenexport_20211026__0f6c15ab579b42c09f49be45db2de174.zip\"\n",
    "\n",
    "\n",
    "def check_dir_from_today(path:str=PATH_VOLLAUSZUEGE, date:datetime.date=TODAY):\n",
    "    \"\"\"\n",
    "    Check if a directory for the current day exists and returns path.\n",
    "    \"\"\"\n",
    "    strDate = date.strftime(\"%Y%m%d\")\n",
    "\n",
    "    dateDirs = os.listdir(path)\n",
    "    dates = numpy.array(dateDirs).astype(\"int\")\n",
    "    recentDir = str(dates.max())\n",
    "\n",
    "    if not recentDir == strDate:\n",
    "        create_dir_for_today(strDate)\n",
    "    return path + strDate + \"/\"\n",
    "\n",
    "def create_dir_for_today(date:str, path:str=PATH_VOLLAUSZUEGE) -> str:\n",
    "    \"\"\"\n",
    "    Creats directory with name of today.\n",
    "    \"\"\"\n",
    "    newDir = path + date + \"/\"\n",
    "    bashCall = \"sudo mkdir \" + newDir\n",
    "    os.system(bashCall)\n",
    "\n",
    "def list_xml_files(path:str=PATH_VOLLAUSZUEGE) -> list:\n",
    "    \"\"\"\n",
    "    \n",
    "    \"\"\"\n",
    "    dirToday = check_dir_from_today()\n",
    "    files = os.listdir(dirToday)\n",
    "    files.sort()\n",
    "    filenames = [element.split(\".\")[0].split(\"_\")[0] for element in files]\n",
    "    uniqueFilenames = list(set(filenames))\n",
    "\n",
    "    stackedList = []\n",
    "    for uniqueName in uniqueFilenames:\n",
    "        filteredList = [path + k for k in files if uniqueName in k]\n",
    "        stackedList.append(filteredList)\n",
    "    \n",
    "    return stackedList\n",
    "\n",
    "def from_xml_to_DataFrame(XMLpathList:list) -> pandas.core.frame.DataFrame:\n",
    "    \"\"\"\n",
    "    \n",
    "    \"\"\"\n",
    "    listDfs = [pandas.read_xml(path_or_buffer=file, encoding=\"utf-16\") for file in XMLpathList]\n",
    "    return pandas.concat(listDfs,ignore_index=True)\n"
   ]
  },
  {
   "cell_type": "code",
   "execution_count": 38,
   "metadata": {},
   "outputs": [
    {
     "ename": "XMLSyntaxError",
     "evalue": "Start tag expected, '<' not found, line 1, column 1 (<string>, line 1)",
     "output_type": "error",
     "traceback": [
      "Traceback \u001b[0;36m(most recent call last)\u001b[0m:\n",
      "  File \u001b[1;32m\"/opt/anaconda/anaconda3/lib/python3.8/site-packages/IPython/core/interactiveshell.py\"\u001b[0m, line \u001b[1;32m3441\u001b[0m, in \u001b[1;35mrun_code\u001b[0m\n    exec(code_obj, self.user_global_ns, self.user_ns)\n",
      "  File \u001b[1;32m\"/tmp/ipykernel_19007/541332655.py\"\u001b[0m, line \u001b[1;32m2\u001b[0m, in \u001b[1;35m<module>\u001b[0m\n    df = from_xml_to_DataFrame(files[0])\n",
      "  File \u001b[1;32m\"/tmp/ipykernel_19007/3158768015.py\"\u001b[0m, line \u001b[1;32m55\u001b[0m, in \u001b[1;35mfrom_xml_to_DataFrame\u001b[0m\n    listDfs = [pandas.read_xml(path_or_buffer=file, encoding=\"utf-16\") for file in XMLpathList]\n",
      "  File \u001b[1;32m\"/tmp/ipykernel_19007/3158768015.py\"\u001b[0m, line \u001b[1;32m55\u001b[0m, in \u001b[1;35m<listcomp>\u001b[0m\n    listDfs = [pandas.read_xml(path_or_buffer=file, encoding=\"utf-16\") for file in XMLpathList]\n",
      "  File \u001b[1;32m\"/opt/anaconda/anaconda3/lib/python3.8/site-packages/pandas/io/xml.py\"\u001b[0m, line \u001b[1;32m927\u001b[0m, in \u001b[1;35mread_xml\u001b[0m\n    return _parse(\n",
      "  File \u001b[1;32m\"/opt/anaconda/anaconda3/lib/python3.8/site-packages/pandas/io/xml.py\"\u001b[0m, line \u001b[1;32m728\u001b[0m, in \u001b[1;35m_parse\u001b[0m\n    data_dicts = p.parse_data()\n",
      "  File \u001b[1;32m\"/opt/anaconda/anaconda3/lib/python3.8/site-packages/pandas/io/xml.py\"\u001b[0m, line \u001b[1;32m391\u001b[0m, in \u001b[1;35mparse_data\u001b[0m\n    self.xml_doc = XML(self._parse_doc(self.path_or_buffer))\n",
      "  File \u001b[1;32m\"/opt/anaconda/anaconda3/lib/python3.8/site-packages/pandas/io/xml.py\"\u001b[0m, line \u001b[1;32m553\u001b[0m, in \u001b[1;35m_parse_doc\u001b[0m\n    doc = fromstring(\n",
      "  File \u001b[1;32m\"src/lxml/etree.pyx\"\u001b[0m, line \u001b[1;32m3237\u001b[0m, in \u001b[1;35mlxml.etree.fromstring\u001b[0m\n",
      "  File \u001b[1;32m\"src/lxml/parser.pxi\"\u001b[0m, line \u001b[1;32m1896\u001b[0m, in \u001b[1;35mlxml.etree._parseMemoryDocument\u001b[0m\n",
      "  File \u001b[1;32m\"src/lxml/parser.pxi\"\u001b[0m, line \u001b[1;32m1784\u001b[0m, in \u001b[1;35mlxml.etree._parseDoc\u001b[0m\n",
      "  File \u001b[1;32m\"src/lxml/parser.pxi\"\u001b[0m, line \u001b[1;32m1141\u001b[0m, in \u001b[1;35mlxml.etree._BaseParser._parseDoc\u001b[0m\n",
      "  File \u001b[1;32m\"src/lxml/parser.pxi\"\u001b[0m, line \u001b[1;32m615\u001b[0m, in \u001b[1;35mlxml.etree._ParserContext._handleParseResultDoc\u001b[0m\n",
      "  File \u001b[1;32m\"src/lxml/parser.pxi\"\u001b[0m, line \u001b[1;32m725\u001b[0m, in \u001b[1;35mlxml.etree._handleParseResult\u001b[0m\n",
      "\u001b[0;36m  File \u001b[0;32m\"src/lxml/parser.pxi\"\u001b[0;36m, line \u001b[0;32m654\u001b[0;36m, in \u001b[0;35mlxml.etree._raiseParseError\u001b[0;36m\u001b[0m\n",
      "\u001b[0;36m  File \u001b[0;32m\"<string>\"\u001b[0;36m, line \u001b[0;32m1\u001b[0m\n\u001b[0;31mXMLSyntaxError\u001b[0m\u001b[0;31m:\u001b[0m Start tag expected, '<' not found, line 1, column 1\n"
     ]
    }
   ],
   "source": [
    "files = list_xml_files()\n",
    "df = from_xml_to_DataFrame(files[0])\n",
    "df.describe"
   ]
  },
  {
   "cell_type": "code",
   "execution_count": 30,
   "metadata": {},
   "outputs": [],
   "source": [
    "files = stackedList[7]\n",
    "\n",
    "ListDfs = [pd.read_xml(path_or_buffer=file, encoding=\"utf-16\") for file in files]\n",
    "\n",
    "df = pd.concat(ListDfs,ignore_index=True)\n",
    "del(ListDfs)"
   ]
  },
  {
   "cell_type": "code",
   "execution_count": 31,
   "metadata": {},
   "outputs": [
    {
     "name": "stdout",
     "output_type": "stream",
     "text": [
      "Size: (15.3388671875, 'kilobytes')\n",
      "Size: (15.3232421875, 'kilobytes')\n"
     ]
    },
    {
     "data": {
      "text/plain": [
       "Id      176\n",
       "Name    176\n",
       "dtype: int64"
      ]
     },
     "execution_count": 31,
     "metadata": {},
     "output_type": "execute_result"
    }
   ],
   "source": [
    "import sys\n",
    "\n",
    "def format_bytes(size):\n",
    "    # 2**10 = 1024\n",
    "    power = 2**10\n",
    "    n = 0\n",
    "    power_labels = {0 : '', 1: 'kilo', 2: 'mega', 3: 'giga', 4: 'tera'}\n",
    "    while size > power:\n",
    "        size /= power\n",
    "        n += 1\n",
    "    return size, power_labels[n]+'bytes'\n",
    "\n",
    "\n",
    "print(f\"Size: {format_bytes(sys.getsizeof(df))}\")\n",
    "print(f\"Size: {format_bytes(df.memory_usage(index=True, deep=True).sum())}\")\n",
    "\n",
    "df.count()"
   ]
  },
  {
   "cell_type": "markdown",
   "metadata": {},
   "source": [
    "# CREATE TABLE based on Pandas DF"
   ]
  },
  {
   "cell_type": "code",
   "execution_count": null,
   "metadata": {},
   "outputs": [],
   "source": [
    "filepath = \"/uba/mastr/MaStR/Vollauszüge/\"\n",
    "dateDirs = os.listdir(filepath)\n",
    "array = np.array(dateDirs).astype(\"int\")\n",
    "recentDir = str(array.min())\n",
    "filepath = filepath + recentDir + \"/\"\n",
    "files = os.listdir(filepath)\n",
    "files.sort()\n",
    "filenames = [element.split(\".\")[0].split(\"_\")[0] for element in files]\n",
    "uniqueFilenames = list(set(filenames))\n",
    "\n",
    "filterString = 'Wind'\n",
    "filteredList = [k for k in files if filterString in k]\n",
    "selectedTable = filteredList[1].split(\".\")[0]\n",
    "xmlPath = filepath + selectedTable + \".xml\"\n",
    "print(xmlPath)\n",
    "\n",
    "df = from_xml_to_DataFrame(xmlPath)\n",
    "change_Dtype_Datetime(df)\n",
    "df.head()"
   ]
  },
  {
   "cell_type": "code",
   "execution_count": null,
   "metadata": {},
   "outputs": [],
   "source": [
    "selectedTable"
   ]
  },
  {
   "cell_type": "code",
   "execution_count": null,
   "metadata": {},
   "outputs": [],
   "source": [
    "engine = create_postgres_engine(conn_params_dic)\n",
    "df.to_sql(\n",
    "    name=selectedTable,\n",
    "    schema=\"mastr_raw\",\n",
    "    con=engine,\n",
    "    if_exists=\"replace\",\n",
    "    index=False\n",
    ")\n",
    "\n",
    "#engine.execute(f'ALTER TABLE mastr_raw.\"{selectedTable}\" ADD PRIMARY KEY (index);')"
   ]
  },
  {
   "cell_type": "markdown",
   "metadata": {},
   "source": [
    "# USING PANDAS AND SQLALCHEMY TO READ "
   ]
  },
  {
   "cell_type": "code",
   "execution_count": null,
   "metadata": {},
   "outputs": [],
   "source": [
    "df = read_postgres_from_queryfile(sqlpath, conn_params_dic)\n",
    "df.head()"
   ]
  },
  {
   "cell_type": "markdown",
   "metadata": {},
   "source": [
    "# USING PSYCOPG2"
   ]
  },
  {
   "cell_type": "code",
   "execution_count": null,
   "metadata": {},
   "outputs": [],
   "source": [
    "conn_params_dic = {\n",
    "    \"host\": \"10.0.0.102\",\n",
    "    \"dbname\": \"mastr\",\n",
    "    \"user\": \"uba_user\",\n",
    "    \"password\": \"UBAit2021!\",\n",
    "    \"port\": \"5432\"\n",
    "}\n",
    "conn = connect(conn_params_dic)\n",
    "print(type(conn))\n",
    "\n",
    "copy_from_DataFrame()"
   ]
  },
  {
   "cell_type": "code",
   "execution_count": 12,
   "metadata": {},
   "outputs": [
    {
     "name": "stdout",
     "output_type": "stream",
     "text": [
      "mist\n"
     ]
    }
   ],
   "source": [
    "from datetime import date\n",
    "\n",
    "dates = False#date.today().strftime(\"%Y%m%d\")\n",
    "\n",
    "if not dates:\n",
    "    print(\"mist\")"
   ]
  }
 ],
 "metadata": {
  "interpreter": {
   "hash": "590c26b7f2937bfcecb0a5796d3a0066be0ce7e9830b13c53de43dd49be9b17a"
  },
  "kernelspec": {
   "display_name": "Python 3.8.12 64-bit ('base': conda)",
   "name": "python3"
  },
  "language_info": {
   "codemirror_mode": {
    "name": "ipython",
    "version": 3
   },
   "file_extension": ".py",
   "mimetype": "text/x-python",
   "name": "python",
   "nbconvert_exporter": "python",
   "pygments_lexer": "ipython3",
   "version": "3.8.12"
  },
  "orig_nbformat": 2
 },
 "nbformat": 4,
 "nbformat_minor": 2
}
