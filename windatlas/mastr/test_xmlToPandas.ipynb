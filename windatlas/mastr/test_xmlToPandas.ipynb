{
 "metadata": {
  "language_info": {
   "codemirror_mode": {
    "name": "ipython",
    "version": 3
   },
   "file_extension": ".py",
   "mimetype": "text/x-python",
   "name": "python",
   "nbconvert_exporter": "python",
   "pygments_lexer": "ipython3",
   "version": "3.8.12-final"
  },
  "orig_nbformat": 2,
  "kernelspec": {
   "name": "python38864bitcc88fc93af0246c8a8b7d2aa4ec87d32",
   "display_name": "Python 3.8.8 64-bit"
  }
 },
 "nbformat": 4,
 "nbformat_minor": 2,
 "cells": [
  {
   "cell_type": "code",
   "execution_count": 1,
   "metadata": {},
   "outputs": [
    {
     "output_type": "stream",
     "name": "stdout",
     "text": [
      "1.3.3\n"
     ]
    }
   ],
   "source": [
    "import os\n",
    "import time\n",
    "import pandas as pd\n",
    "print(pd.__version__)\n",
    "\n",
    "from postgressql import change_Dtype_Datetime, from_xml_to_DataFrame"
   ]
  },
  {
   "cell_type": "code",
   "execution_count": 2,
   "metadata": {},
   "outputs": [
    {
     "output_type": "stream",
     "name": "stdout",
     "text": [
      "/uba/mastr/MaStR/Vollauszüge/20211004/EinheitenWind.xml\n"
     ]
    }
   ],
   "source": [
    "filepath = \"/uba/mastr/MaStR/Vollauszüge/20211004/\"\n",
    "files = os.listdir(filepath)\n",
    "files.sort()\n",
    "filenames = [element.split(\".\")[0].split(\"_\")[0] for element in files]\n",
    "uniqueFilenames = list(set(filenames))\n",
    "\n",
    "filterString = 'Wind'\n",
    "filteredList = [k for k in files if filterString in k]\n",
    "xmlPath = filepath +filteredList[1]\n",
    "print(xmlPath)"
   ]
  },
  {
   "cell_type": "code",
   "execution_count": 3,
   "metadata": {},
   "outputs": [],
   "source": [
    "df = from_xml_to_DataFrame(xmlPath)"
   ]
  },
  {
   "cell_type": "code",
   "execution_count": 5,
   "metadata": {},
   "outputs": [],
   "source": [
    "change_Dtype_Datetime(df)"
   ]
  },
  {
   "cell_type": "code",
   "execution_count": 6,
   "metadata": {},
   "outputs": [
    {
     "output_type": "execute_result",
     "data": {
      "text/plain": [
       "EinheitMastrNummer                               object\n",
       "DatumLetzteAktualisierung                datetime64[ns]\n",
       "LokationMaStRNummer                              object\n",
       "NetzbetreiberpruefungStatus                       int64\n",
       "NetzbetreiberpruefungDatum               datetime64[ns]\n",
       "                                              ...      \n",
       "DatumEndgueltigeStilllegung              datetime64[ns]\n",
       "ClusterOstsee                                   float64\n",
       "DatumBeginnVoruebergehendeStilllegung    datetime64[ns]\n",
       "Kraftwerksnummer                                 object\n",
       "DatumWiederaufnahmeBetrieb               datetime64[ns]\n",
       "Length: 69, dtype: object"
      ]
     },
     "metadata": {},
     "execution_count": 6
    }
   ],
   "source": [
    "df.dtypes"
   ]
  },
  {
   "cell_type": "code",
   "execution_count": null,
   "metadata": {},
   "outputs": [],
   "source": [
    "df.filter(regex=\"datum(?i)\").head()\n",
    "# df.select_dtypes(include=[object]).filter(regex=\"nummer(?i)\").head()"
   ]
  }
 ]
}