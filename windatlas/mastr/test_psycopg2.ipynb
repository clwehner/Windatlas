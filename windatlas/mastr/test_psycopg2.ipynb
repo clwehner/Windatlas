{
 "metadata": {
  "language_info": {
   "codemirror_mode": {
    "name": "ipython",
    "version": 3
   },
   "file_extension": ".py",
   "mimetype": "text/x-python",
   "name": "python",
   "nbconvert_exporter": "python",
   "pygments_lexer": "ipython3",
   "version": "3.6.9-final"
  },
  "orig_nbformat": 2,
  "kernelspec": {
   "name": "python3",
   "display_name": "Python 3"
  }
 },
 "nbformat": 4,
 "nbformat_minor": 2,
 "cells": [
  {
   "cell_type": "code",
   "execution_count": 1,
   "metadata": {},
   "outputs": [],
   "source": [
    "import os   \n"
   ]
  },
  {
   "cell_type": "code",
   "execution_count": 3,
   "metadata": {},
   "outputs": [
    {
     "output_type": "execute_result",
     "data": {
      "text/plain": [
       "['AnlagenEegSolar',\n",
       " 'AnlagenGasSpeicher',\n",
       " 'EinheitenGasErzeuger',\n",
       " 'AnlagenEegSpeicher',\n",
       " 'AnlagenEegWind',\n",
       " 'EinheitenBiomasse',\n",
       " 'EinheitenGasSpeicher',\n",
       " 'Bilanzierungsgebiete',\n",
       " 'Marktakteure',\n",
       " 'EinheitenStromSpeicher',\n",
       " 'AnlagenEegBiomasse',\n",
       " 'Katalogkategorien',\n",
       " 'EinheitenStromVerbraucher',\n",
       " 'EinheitenGeoSolarthermieGrubenKlaerschlammDruckentspannung',\n",
       " 'EinheitenWind',\n",
       " 'AnlagenKwk',\n",
       " 'Marktrollen',\n",
       " 'EinheitenWasser',\n",
       " 'Lokationen',\n",
       " 'EinheitenSolar',\n",
       " 'EinheitenGenehmigung',\n",
       " 'AnlagenStromSpeicher',\n",
       " 'AnlagenEegWasser',\n",
       " 'EinheitenKernkraft',\n",
       " 'EinheitenVerbrennung',\n",
       " 'EinheitenGasverbraucher',\n",
       " 'Einheitentypen',\n",
       " 'Netzanschlusspunkte',\n",
       " 'AnlagenEegGeoSolarthermieGrubenKlaerschlammDruckentspannung',\n",
       " 'Katalogwerte',\n",
       " 'Netze']"
      ]
     },
     "metadata": {},
     "execution_count": 3
    }
   ],
   "source": [
    "filepath = \"/uba/mastr/MaStR/Vollauszüge/20211004/\"\n",
    "filenames = os.listdir(filepath)\n",
    "filenames.sort()\n",
    "filenames = [element.split(\".\")[0].split(\"_\")[0] for element in filenames]\n",
    "uniqueFilenames = list(set(filenames))\n",
    "uniqueFilenames"
   ]
  },
  {
   "cell_type": "code",
   "execution_count": 4,
   "metadata": {},
   "outputs": [],
   "source": [
    "import psycopg2"
   ]
  },
  {
   "cell_type": "code",
   "execution_count": 12,
   "metadata": {},
   "outputs": [
    {
     "output_type": "stream",
     "name": "stdout",
     "text": [
      "[(1, 'hello'), (2, 'ciao')]\n"
     ]
    }
   ],
   "source": [
    "try:\n",
    "    # use our connection values to establish a connection\n",
    "    conn = psycopg2.connect(\n",
    "        host = \"10.0.0.102\",\n",
    "        dbname = \"mastr\",\n",
    "        user = \"uba_user\",\n",
    "        password = \"UBAit2021!\",\n",
    "        port = \"5432\"\n",
    "    )\n",
    "    # create a psycopg2 cursor that can execute queries\n",
    "    cursor = conn.cursor()\n",
    "    # create a new table \"mastr_wind\" with a single column called \"name\"\n",
    "    #cursor.execute(\"\"\"CREATE TABLE hello(id int, value varchar(256));\"\"\")\n",
    "    #cursor.execute(\"\"\"INSERT INTO hello values(1, 'hello'), (2, 'ciao');\"\"\")\n",
    "    # run a SELECT statement - no data in there, but we can try it\n",
    "    cursor.execute(\"\"\"SELECT * FROM hello;\"\"\")\n",
    "    conn.commit() # <--- makes sure the change is shown in the database\n",
    "    rows = cursor.fetchall()\n",
    "    print(rows)\n",
    "    cursor.close()\n",
    "    conn.close()\n",
    "except Exception as e:\n",
    "    print(\"Uh oh, can't connect. Invalid dbname, user or password?\")\n",
    "    print(e)"
   ]
  },
  {
   "cell_type": "code",
   "execution_count": null,
   "metadata": {},
   "outputs": [],
   "source": []
  }
 ]
}