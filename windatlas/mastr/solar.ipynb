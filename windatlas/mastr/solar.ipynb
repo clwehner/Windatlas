{
 "cells": [
  {
   "cell_type": "code",
   "execution_count": null,
   "metadata": {},
   "outputs": [],
   "source": [
    "import math\n",
    "import pandas\n",
    "import sqlalchemy\n",
    "print(pandas.__version__)\n",
    "\n",
    "import geopandas as gpd\n",
    "import folium\n",
    "#from folium.plugins import MarkerCluster # for clustering the markers\n",
    "import plotly.express as px\n",
    "import plotly.graph_objects as go\n",
    "import matplotlib.pyplot as plt\n",
    "import seaborn as sns\n",
    "# \n",
    "pandas.set_option('max_columns', None)"
   ]
  },
  {
   "cell_type": "code",
   "execution_count": null,
   "metadata": {},
   "outputs": [],
   "source": [
    "# Path to sql query files\n",
    "SQL_PATH = r\"./sqlCommands/\"\n",
    "SQL_DATA = r\"loadMastrSolar.sql\"\n",
    "\n",
    "SQL_DATA_PATH = SQL_PATH + SQL_DATA\n",
    "\n",
    "# Parameters to create a connection to the MaStR-postgreSQL DB\n",
    "CONN_PARAM_DICT = {\n",
    "    \"host\": \"10.0.0.102\",\n",
    "    \"dbname\": \"mastr\",\n",
    "    \"user\": \"uba_user\",\n",
    "    \"password\": \"UBAit2021!\",\n",
    "    \"port\": \"5432\"\n",
    "}\n",
    "\n",
    "bundesländer = {\n",
    "    1400:\"Brandenburg\",\n",
    "    1401:\"Berlin\",\n",
    "    1402:\"Baden-Würtenberg\",\n",
    "    1403:\"Bayern\",\n",
    "    1404:\"Bremen\",\n",
    "    1405:\"Hessen\",\n",
    "    1406:\"Hamburg\",\n",
    "    1407:\"Mecklenburg-Vorpommern\",\n",
    "    1408:\"Niedersachsen\",\n",
    "    1409:\"Nordrhein-Westfahlen\",\n",
    "    1410:\"Rheinland-Pfalz\",\n",
    "    1411:\"Schleswig-Holstein\",\n",
    "    1412:\"Saarland\",\n",
    "    1413:\"Sachsen\",\n",
    "    1414:\"Sachsen-Anhalt\",\n",
    "    1415:\"Thüringen\"}"
   ]
  },
  {
   "cell_type": "code",
   "execution_count": null,
   "metadata": {},
   "outputs": [],
   "source": [
    "def build_postgres_conn_string (param:dict) -> str:\n",
    "    return f'postgresql+psycopg2://{param[\"user\"]}:{param[\"password\"]}@{param[\"host\"]}:{param[\"port\"]}/{param[\"dbname\"]}'\n",
    "\n",
    "def create_postgres_engine (param:dict) -> sqlalchemy.engine.base.Engine:\n",
    "    conString = build_postgres_conn_string(param)\n",
    "    engine = sqlalchemy.create_engine(conString, pool_recycle=3600)\n",
    "    return engine\n",
    "\n",
    "def read_postgres_from_queryfile (sqlpath:str, postgresLogin:dict) -> pandas.DataFrame:\n",
    "    engine = create_postgres_engine(postgresLogin)\n",
    "    \n",
    "    scriptFile = open(sqlpath,'r')\n",
    "    script = scriptFile.read()\n",
    "    df = pandas.read_sql(script, engine)\n",
    "\n",
    "    return df\n",
    "\n",
    "\n",
    "def filter_wrong_bundeslaender(df:pandas.DataFrame) -> pandas.DataFrame:\n",
    "    unique_bundesl = df[\"Bundesland\"].unique()\n",
    "    wrong_bundesl = [ i for i in unique_bundesl if not isinstance(i, str) and str(i) != 'nan']\n",
    "    \n",
    "    for wrong in wrong_bundesl:\n",
    "        wrong_raws = df.loc[df[\"Bundesland\"]==wrong]\n",
    "\n",
    "        for index, raw in wrong_raws.iterrows():\n",
    "            gmshl_of_wrong_raw = raw[\"Gemeindeschluessel\"]\n",
    "            most_common_bundesland = df.loc[df[\"Gemeindeschluessel\"]==gmshl_of_wrong_raw][\"Bundesland\"].value_counts().index[0]\n",
    "            df.loc[index,\"Bundesland\"] = most_common_bundesland\n",
    "\n",
    "    return df"
   ]
  },
  {
   "cell_type": "code",
   "execution_count": null,
   "metadata": {},
   "outputs": [],
   "source": [
    "dfMastrSolar = read_postgres_from_queryfile(sqlpath=SQL_DATA_PATH, postgresLogin=CONN_PARAM_DICT)\n",
    "\n",
    "dfMastrSolar[\"Anlagenzahl\"] = 1\n",
    "\n",
    "dfMastrSolar = dfMastrSolar.replace({\"Bundesland\": bundesländer})\n",
    "\n",
    "dfMastrSolar.columns"
   ]
  },
  {
   "cell_type": "code",
   "execution_count": null,
   "metadata": {},
   "outputs": [],
   "source": [
    "dfg = filter_wrong_bundeslaender(dfMastrSolar).groupby([dfMastrSolar['Inbetriebnahmedatum'].dt.weekday, \"Bundesland\"])[\"Nettonennleistung\"].sum()\n",
    "ax = dfg.unstack(level=0).plot(kind='bar', subplots=True, rot=90, figsize=(20, 10), layout=(2, 4), sharey=True, logy=True)\n",
    "plt.tight_layout()"
   ]
  },
  {
   "cell_type": "code",
   "execution_count": null,
   "metadata": {},
   "outputs": [],
   "source": [
    "dfg"
   ]
  },
  {
   "cell_type": "code",
   "execution_count": null,
   "metadata": {},
   "outputs": [],
   "source": [
    "#dfg = filter_wrong_bundeslaender(dfMastrSolar).groupby([dfMastrSolar['Inbetriebnahmedatum'].dt.weekday, \"Bundesland\"])[\"Nettonennleistung\"].sum()\n",
    "dfg = filter_wrong_bundeslaender(dfMastrSolar).groupby([dfMastrSolar['Inbetriebnahmedatum'].dt.weekday,\"Bundesland\"])[\"Nettonennleistung\"].sum()\n",
    "\n",
    "wochentage = {\n",
    "    0.0:\"Montag\",\n",
    "    1.0:\"Dienstag\",\n",
    "    2.0:\"Mittwoch\",\n",
    "    3.0:\"Donnerstag\",\n",
    "    4.0:\"Freitag\",\n",
    "    5.0:\"Samstag\",\n",
    "    6.0:\"Sonntag\"}\n",
    "\n",
    "sns.set_style(\"whitegrid\")\n",
    "\n",
    "data = dfg.reset_index().replace({\"Inbetriebnahmedatum\":wochentage})\n",
    "g = sns.catplot(kind='bar', data=data,x='Inbetriebnahmedatum', y='Nettonennleistung', col='Bundesland', col_wrap=5, palette=\"Paired\", height=3, aspect=1.2)#, log=True)\n",
    "g.set_xticklabels(rotation=90)\n",
    "#g.set(ylabel=\"log Nettonennleistung\")\n",
    "g.set(xlabel=None)\n",
    "#g.set(ylim=(100, None))"
   ]
  },
  {
   "cell_type": "code",
   "execution_count": null,
   "metadata": {},
   "outputs": [],
   "source": [
    "dfg = filter_wrong_bundeslaender(dfMastrSolar).groupby([dfMastrSolar['Inbetriebnahmedatum'].dt.weekday, \"Bundesland\"])[\"Nettonennleistung\"].sum()\n",
    "\n",
    "data = dfg.reset_index().replace({\"Inbetriebnahmedatum\":wochentage})\n",
    "g = sns.catplot(kind='bar', data=data,x='Bundesland', y='Nettonennleistung', col='Inbetriebnahmedatum', log=True, col_wrap=4, palette=\"Paired\", height=3, aspect=1.2)\n",
    "g.set_xticklabels(rotation=90)\n",
    "#g.set(ylabel=\"log Nettonennleistung\")\n",
    "g.set(xlabel=None)"
   ]
  },
  {
   "cell_type": "code",
   "execution_count": null,
   "metadata": {},
   "outputs": [],
   "source": [
    "datum = dfMastrSolar[\"Inbetriebnahmedatum\"] > \"2010\"\n",
    "leistung_bot = dfMastrSolar[\"Nettonennleistung\"] > 400\n",
    "leistung_top = dfMastrSolar[\"Nettonennleistung\"] < 500\n",
    "\n",
    "spalten = ['Laengengrad', 'Breitengrad']\n",
    "\n",
    "dfMastrSolar.loc[leistung_bot & leistung_top & datum,spalten]"
   ]
  },
  {
   "cell_type": "code",
   "execution_count": null,
   "metadata": {},
   "outputs": [],
   "source": [
    "def classify_Leistung(NennLeistung,threshklasse):\n",
    "    #threshklasse=(0,10,40,100,1000)\n",
    "    #k=0\n",
    "    #Klasse=0\n",
    "    for n, k in enumerate(threshklasse):\n",
    "        if k == threshklasse [-1]:\n",
    "            if NennLeistung > threshklasse[n]:\n",
    "                Klasse = k\n",
    "        else:\n",
    "            if NennLeistung > threshklasse[n] and NennLeistung <= threshklasse [n+1]: \n",
    "                Klasse = k\n",
    "    #if Klasse==0:\n",
    "        #Klasse =len(threshklasse)\n",
    "        #k=k+1\n",
    "    return Klasse\n",
    "\n",
    "#dummy= [0,10,40,100,1000]\n",
    "#dfMastrSolar[\"Groessenklasse\"]=dfMastrSolar.apply(lambda x: classify_Leistung(NennLeistung=x[\"Nettonennleistung\"],threshklasse= dummy), axis=1)\n",
    "#dfMastrSolar.loc[:,[\"Nettonennleistung\", \"Groessenklasse\"]]"
   ]
  },
  {
   "cell_type": "code",
   "execution_count": null,
   "metadata": {},
   "outputs": [],
   "source": [
    "dfMastrSolar.groupby([\"Groessenklasse\"]).sum().reset_index().plot.bar(y=\"Nettonennleistung\",x=\"Groessenklasse\")"
   ]
  },
  {
   "cell_type": "markdown",
   "metadata": {},
   "source": [
    "### Dask implementation "
   ]
  },
  {
   "cell_type": "code",
   "execution_count": null,
   "metadata": {},
   "outputs": [],
   "source": [
    "import dask\n",
    "from dask.distributed import Client\n",
    "\n",
    "with dask.config.set({\"distributed.worker.deamon\":False}):\n",
    "    client = Client()"
   ]
  },
  {
   "cell_type": "code",
   "execution_count": null,
   "metadata": {},
   "outputs": [],
   "source": [
    "import time, random, sys\n",
    "\n",
    "def load(x):\n",
    "    time.sleep(random.random())\n",
    "    return x\n",
    "\n",
    "def preprocess (x):\n",
    "    time.sleep(random.random())\n",
    "    return x\n",
    "\n",
    "def scary_function (x):\n",
    "    if random.random() < 0.4:\n",
    "        sys.exit(1)\n",
    "    else:\n",
    "        time.sleep(random.random() * 4)\n",
    "    return x\n",
    "\n",
    "def save (x):\n",
    "    time.sleep(random.random())\n",
    "    return x\n",
    "\n",
    "data = client.map(load, range(20))\n",
    "data = client.map(preprocess, data)\n",
    "\n",
    "data = client.map(scary_function, data)\n",
    "\n",
    "data = client.map(save, data)"
   ]
  },
  {
   "cell_type": "code",
   "execution_count": null,
   "metadata": {},
   "outputs": [],
   "source": [
    "client.gather(data)"
   ]
  },
  {
   "cell_type": "code",
   "execution_count": null,
   "metadata": {},
   "outputs": [],
   "source": [
    "client.restart()"
   ]
  },
  {
   "cell_type": "code",
   "execution_count": null,
   "metadata": {},
   "outputs": [],
   "source": [
    "from dask import dataframe as dd\n",
    "from typing import List"
   ]
  },
  {
   "cell_type": "code",
   "execution_count": null,
   "metadata": {},
   "outputs": [],
   "source": [
    "ddMastrSolar = dd.from_pandas(dfMastrSolar, npartitions=16)"
   ]
  },
  {
   "cell_type": "code",
   "execution_count": null,
   "metadata": {},
   "outputs": [],
   "source": [
    "def classify_Leistung(raw,threshklasse:List[int]) -> int:\n",
    "    #threshklasse=(0,10,40,100,1000)\n",
    "    #k=0\n",
    "    #Klasse=0\n",
    "    NennLeistung = raw#[\"Nettonennleistung\"]\n",
    "\n",
    "    for n, k in enumerate(threshklasse):\n",
    "        if k == threshklasse [-1]:\n",
    "            if NennLeistung > threshklasse[n]:\n",
    "                Klasse = k\n",
    "        else:\n",
    "            if NennLeistung > threshklasse[n] and NennLeistung <= threshklasse [n+1]: \n",
    "                Klasse = k\n",
    "    #if Klasse==0:\n",
    "        #Klasse =len(threshklasse)\n",
    "        #k=k+1\n",
    "    return Klasse\n",
    "\n",
    "\n",
    "dummy= [0,5,10,100,500]\n",
    "#ddMastrSolar[\"Groessenklasse\"] = ddMastrSolar.apply(lambda x: classify_Leistung(NennLeistung=x[\"Nettonennleistung\"],threshklasse= dummy), axis=1)\n",
    "#grklass = ddMastrSolar.apply(classify_Leistung, axis=1, args=(dummy,), meta=('Groessenklasse', 'int16'))\n",
    "grklass = ddMastrSolar.applymap(lambda x: classify_Leistung(raw=x[\"Nettonennleistung\"],threshklasse= dummy))\n",
    "grklass.compute()\n",
    "#ddMastrSolar.groupby([\"Groessenklasse\"]).sum().reset_index().plot.bar(y=\"Nettonennleistung\",x=\"Groessenklasse\")"
   ]
  },
  {
   "cell_type": "code",
   "execution_count": null,
   "metadata": {},
   "outputs": [],
   "source": [
    "df = pandas.DataFrame({'x': [1, 2, 3, 4, 5],\n",
    "\n",
    "                   'y': [1., 2., 3., 4., 5.]})\n",
    "\n",
    "ddf = dd.from_pandas(df, npartitions=2)\n",
    "df"
   ]
  },
  {
   "cell_type": "code",
   "execution_count": null,
   "metadata": {},
   "outputs": [],
   "source": [
    "def myadd(row, a, b=1):\n",
    "    return row.sum() + a*a + b\n",
    "\n",
    "#res = ddf.apply(myadd, axis=1, args=(2,), b=1.5)\n",
    "res = ddf.apply(myadd, axis=1, args=(5,), b=1.5, meta=('x', 'f8'))\n",
    "res.compute()"
   ]
  }
 ],
 "metadata": {
  "interpreter": {
   "hash": "590c26b7f2937bfcecb0a5796d3a0066be0ce7e9830b13c53de43dd49be9b17a"
  },
  "kernelspec": {
   "display_name": "Python 3.8.12 64-bit ('base': conda)",
   "language": "python",
   "name": "python3"
  },
  "language_info": {
   "codemirror_mode": {
    "name": "ipython",
    "version": 3
   },
   "file_extension": ".py",
   "mimetype": "text/x-python",
   "name": "python",
   "nbconvert_exporter": "python",
   "pygments_lexer": "ipython3",
   "version": "3.8.12"
  },
  "orig_nbformat": 4
 },
 "nbformat": 4,
 "nbformat_minor": 2
}
