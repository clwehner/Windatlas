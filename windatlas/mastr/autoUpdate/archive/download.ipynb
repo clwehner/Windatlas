{
 "cells": [
  {
   "cell_type": "markdown",
   "metadata": {},
   "source": [
    "# Get Download-link of most recent Vollauszug"
   ]
  },
  {
   "cell_type": "code",
   "execution_count": 13,
   "metadata": {},
   "outputs": [
    {
     "name": "stdout",
     "output_type": "stream",
     "text": [
      "https://download.marktstammdatenregister.de/Gesamtdatenexport_20211110__4db1dae2d5674e3fa43d130cc3b5f571.zip\n"
     ]
    }
   ],
   "source": [
    "from bs4 import BeautifulSoup\n",
    "import urllib3\n",
    "\n",
    "http = urllib3.PoolManager()\n",
    "\n",
    "url = \"https://www.marktstammdatenregister.de/MaStR/Datendownload\"\n",
    "response = http.request('GET', url)\n",
    "soup = BeautifulSoup(response.data)\n",
    "\n",
    "for link in soup.findAll('a'):\n",
    "    if str(link.get('href')).endswith(\".zip\"):\n",
    "        downloadString = str(link.get('href'))\n",
    "        print(downloadString)"
   ]
  },
  {
   "cell_type": "markdown",
   "metadata": {},
   "source": [
    "# Download and extract Vollauszug from Link\n",
    "\n",
    "https://stackoverflow.com/questions/9419162/download-returned-zip-file-from-url"
   ]
  },
  {
   "cell_type": "code",
   "execution_count": 15,
   "metadata": {},
   "outputs": [],
   "source": [
    "import requests, zipfile, io\n",
    "r = requests.get(downloadString)\n",
    "z = zipfile.ZipFile(io.BytesIO(r.content))\n",
    "z.extractall(r\"C:\\Users\\cwehn\\Desktop\\Neuer Ordner\")"
   ]
  },
  {
   "cell_type": "markdown",
   "metadata": {},
   "source": [
    "Funktioniert alles! Im UBA Gast WLAN dauert der download mit entpacken jedoch rund 17 Minuten"
   ]
  },
  {
   "cell_type": "markdown",
   "metadata": {},
   "source": []
  }
 ],
 "metadata": {
  "interpreter": {
   "hash": "53c4fc38ca7b65d9026f015f9a5a85875698d87da235a7d742d494b99be52ee7"
  },
  "kernelspec": {
   "display_name": "Python 3.8.8 64-bit ('base': conda)",
   "language": "python",
   "name": "python3"
  },
  "language_info": {
   "codemirror_mode": {
    "name": "ipython",
    "version": 3
   },
   "file_extension": ".py",
   "mimetype": "text/x-python",
   "name": "python",
   "nbconvert_exporter": "python",
   "pygments_lexer": "ipython3",
   "version": "3.8.8"
  },
  "orig_nbformat": 4
 },
 "nbformat": 4,
 "nbformat_minor": 2
}
